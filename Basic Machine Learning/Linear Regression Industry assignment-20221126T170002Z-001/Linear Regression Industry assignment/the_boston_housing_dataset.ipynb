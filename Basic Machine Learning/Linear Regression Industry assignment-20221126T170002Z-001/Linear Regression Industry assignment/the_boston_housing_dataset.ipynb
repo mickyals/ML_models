{
 "cells": [
  {
   "cell_type": "markdown",
   "metadata": {
    "_cell_guid": "1581d9fa-5027-4f68-bd62-5be5c9010f3d",
    "_uuid": "99c61b7d13479ee7d900b1d4f964c49ffd70ebe3",
    "id": "_A1hZXdEQpZY"
   },
   "source": [
    "# The Boston Housing Dataset"
   ]
  },
  {
   "cell_type": "markdown",
   "metadata": {
    "_cell_guid": "79c7e3d0-c299-4dcb-8224-4455121ee9b0",
    "_uuid": "d629ff2d2480ee46fbb7e2d37f6b5fab8052498a",
    "collapsed": true,
    "id": "2KyHXuDlQpZY"
   },
   "source": [
    "\n",
    "The Boston Housing Dataset is derived from information collected by the U.S. Census Service concerning housing in the area of Boston MA.\n",
    "\n",
    "The following describes the dataset columns:\n",
    "\n",
    "* CRIM - per capita crime rate by town\n",
    "* ZN - proportion of residential land zoned for lots over 25,000 sq.ft.\n",
    "* INDUS - proportion of non-retail business acres per town.\n",
    "* CHAS - Charles River dummy variable (1 if tract bounds river; 0 otherwise)\n",
    "* NOX - nitric oxides concentration (parts per 10 million)\n",
    "* RM - average number of rooms per dwelling\n",
    "* AGE - proportion of owner-occupied units built prior to 1940\n",
    "* DIS - weighted distances to five Boston employment centres\n",
    "* RAD - index of accessibility to radial highways\n",
    "* TAX - full-value property-tax rate per $10,000\n",
    "* PTRATIO - pupil-teacher ratio by town\n",
    "\n",
    "* B - 1000(Bk — 0.63)², where Bk is the proportion of [people of African American descent] by town\n",
    "* LSTAT- Proportion of population that is lower status \n",
    "* MEDV - Median value of owner-occupied homes in /$1000's\n",
    "\n"
   ]
  },
  {
   "cell_type": "markdown",
   "metadata": {
    "id": "59KW0fEwRwv6"
   },
   "source": [
    "# Importing necessary libraries"
   ]
  },
  {
   "cell_type": "code",
   "execution_count": 3,
   "metadata": {},
   "outputs": [
    {
     "name": "stdout",
     "output_type": "stream",
     "text": [
      "Defaulting to user installation because normal site-packages is not writeable\n",
      "Requirement already satisfied: numpy in /usr/lib/python3/dist-packages (1.21.5)\n",
      "Defaulting to user installation because normal site-packages is not writeable\n",
      "Collecting pandas\n",
      "  Downloading pandas-1.5.2-cp310-cp310-manylinux_2_17_x86_64.manylinux2014_x86_64.whl (12.1 MB)\n",
      "\u001b[2K     \u001b[90m━━━━━━━━━━━━━━━━━━━━━━━━━━━━━━━━━━━━━━━━\u001b[0m \u001b[32m12.1/12.1 MB\u001b[0m \u001b[31m45.0 MB/s\u001b[0m eta \u001b[36m0:00:00\u001b[0m00:01\u001b[0m00:01\u001b[0m\n",
      "\u001b[?25hRequirement already satisfied: pytz>=2020.1 in /usr/lib/python3/dist-packages (from pandas) (2022.1)\n",
      "Requirement already satisfied: python-dateutil>=2.8.1 in /home/mickellals/.local/lib/python3.10/site-packages (from pandas) (2.8.2)\n",
      "Requirement already satisfied: numpy>=1.21.0 in /usr/lib/python3/dist-packages (from pandas) (1.21.5)\n",
      "Requirement already satisfied: six>=1.5 in /usr/lib/python3/dist-packages (from python-dateutil>=2.8.1->pandas) (1.16.0)\n",
      "Installing collected packages: pandas\n",
      "Successfully installed pandas-1.5.2\n",
      "Defaulting to user installation because normal site-packages is not writeable\n",
      "Requirement already satisfied: matplotlib in /usr/lib/python3/dist-packages (3.5.1)\n",
      "Defaulting to user installation because normal site-packages is not writeable\n",
      "Collecting seaborn\n",
      "  Downloading seaborn-0.12.1-py3-none-any.whl (288 kB)\n",
      "\u001b[2K     \u001b[90m━━━━━━━━━━━━━━━━━━━━━━━━━━━━━━━━━━━━━━━\u001b[0m \u001b[32m288.2/288.2 KB\u001b[0m \u001b[31m7.3 MB/s\u001b[0m eta \u001b[36m0:00:00\u001b[0ma \u001b[36m0:00:01\u001b[0m\n",
      "\u001b[?25hRequirement already satisfied: numpy>=1.17 in /usr/lib/python3/dist-packages (from seaborn) (1.21.5)\n",
      "Requirement already satisfied: matplotlib!=3.6.1,>=3.1 in /usr/lib/python3/dist-packages (from seaborn) (3.5.1)\n",
      "Requirement already satisfied: pandas>=0.25 in /home/mickellals/.local/lib/python3.10/site-packages (from seaborn) (1.5.2)\n",
      "Requirement already satisfied: python-dateutil>=2.8.1 in /home/mickellals/.local/lib/python3.10/site-packages (from pandas>=0.25->seaborn) (2.8.2)\n",
      "Requirement already satisfied: pytz>=2020.1 in /usr/lib/python3/dist-packages (from pandas>=0.25->seaborn) (2022.1)\n",
      "Requirement already satisfied: six>=1.5 in /usr/lib/python3/dist-packages (from python-dateutil>=2.8.1->pandas>=0.25->seaborn) (1.16.0)\n",
      "Installing collected packages: seaborn\n",
      "Successfully installed seaborn-0.12.1\n"
     ]
    }
   ],
   "source": [
    "import sys\n",
    "!{sys.executable} -m pip install numpy\n",
    "!{sys.executable} -m pip install pandas\n",
    "!{sys.executable} -m pip install matplotlib\n",
    "!{sys.executable} -m pip install seaborn"
   ]
  },
  {
   "cell_type": "code",
   "execution_count": 4,
   "metadata": {
    "_cell_guid": "d5b0617d-81ab-424f-a1ee-6674925f971e",
    "_uuid": "b08753971c228268b0d2fba0a6978dfcfe9943f4",
    "id": "mqHoTN57QpZc"
   },
   "outputs": [],
   "source": [
    "import numpy as np\n",
    "import pandas as pd \n",
    "import matplotlib.pyplot as plt\n",
    "import seaborn as sns"
   ]
  },
  {
   "cell_type": "code",
   "execution_count": 5,
   "metadata": {
    "id": "ef00BD-h1tQr"
   },
   "outputs": [],
   "source": [
    "# Supress Warnings\n",
    "\n",
    "import warnings\n",
    "warnings.filterwarnings('ignore')"
   ]
  },
  {
   "cell_type": "markdown",
   "metadata": {
    "id": "dhP5RG_qSVqi"
   },
   "source": [
    "# Set Column Names"
   ]
  },
  {
   "cell_type": "markdown",
   "metadata": {
    "id": "Bv2bm3gFItoc"
   },
   "source": [
    "Looking at this dataset, it does not include headers. So we will have to add headers to this file ourselves using pandas."
   ]
  },
  {
   "cell_type": "code",
   "execution_count": 6,
   "metadata": {
    "id": "8FMs2BuyRXiz"
   },
   "outputs": [],
   "source": [
    "column_names = ['CRIM', 'ZN', 'INDUS', 'CHAS', 'NOX', 'RM', 'AGE', 'DIS', 'RAD', 'TAX', 'PTRATIO', 'B', 'LSTAT', 'MEDV']"
   ]
  },
  {
   "cell_type": "markdown",
   "metadata": {
    "id": "j00qZj2eSWhS"
   },
   "source": [
    "# Load dataset"
   ]
  },
  {
   "cell_type": "code",
   "execution_count": 7,
   "metadata": {
    "id": "R8Of0ynDRvHK"
   },
   "outputs": [],
   "source": [
    "data = pd.read_csv('housing.csv', header=None, delimiter=r\"\\s+\", names=column_names)"
   ]
  },
  {
   "cell_type": "markdown",
   "metadata": {
    "id": "d2hk995LSXaS"
   },
   "source": [
    "# Print dataset "
   ]
  },
  {
   "cell_type": "code",
   "execution_count": 8,
   "metadata": {
    "colab": {
     "base_uri": "https://localhost:8080/",
     "height": 206
    },
    "id": "0X-40O7IR-7C",
    "outputId": "829ce5b0-d716-4482-d51c-e84db0bc1213"
   },
   "outputs": [
    {
     "data": {
      "text/html": [
       "<div>\n",
       "<style scoped>\n",
       "    .dataframe tbody tr th:only-of-type {\n",
       "        vertical-align: middle;\n",
       "    }\n",
       "\n",
       "    .dataframe tbody tr th {\n",
       "        vertical-align: top;\n",
       "    }\n",
       "\n",
       "    .dataframe thead th {\n",
       "        text-align: right;\n",
       "    }\n",
       "</style>\n",
       "<table border=\"1\" class=\"dataframe\">\n",
       "  <thead>\n",
       "    <tr style=\"text-align: right;\">\n",
       "      <th></th>\n",
       "      <th>CRIM</th>\n",
       "      <th>ZN</th>\n",
       "      <th>INDUS</th>\n",
       "      <th>CHAS</th>\n",
       "      <th>NOX</th>\n",
       "      <th>RM</th>\n",
       "      <th>AGE</th>\n",
       "      <th>DIS</th>\n",
       "      <th>RAD</th>\n",
       "      <th>TAX</th>\n",
       "      <th>PTRATIO</th>\n",
       "      <th>B</th>\n",
       "      <th>LSTAT</th>\n",
       "      <th>MEDV</th>\n",
       "    </tr>\n",
       "  </thead>\n",
       "  <tbody>\n",
       "    <tr>\n",
       "      <th>0</th>\n",
       "      <td>0.00632</td>\n",
       "      <td>18.0</td>\n",
       "      <td>2.31</td>\n",
       "      <td>0</td>\n",
       "      <td>0.538</td>\n",
       "      <td>6.575</td>\n",
       "      <td>65.2</td>\n",
       "      <td>4.0900</td>\n",
       "      <td>1</td>\n",
       "      <td>296.0</td>\n",
       "      <td>15.3</td>\n",
       "      <td>396.90</td>\n",
       "      <td>4.98</td>\n",
       "      <td>24.0</td>\n",
       "    </tr>\n",
       "    <tr>\n",
       "      <th>1</th>\n",
       "      <td>0.02731</td>\n",
       "      <td>0.0</td>\n",
       "      <td>7.07</td>\n",
       "      <td>0</td>\n",
       "      <td>0.469</td>\n",
       "      <td>6.421</td>\n",
       "      <td>78.9</td>\n",
       "      <td>4.9671</td>\n",
       "      <td>2</td>\n",
       "      <td>242.0</td>\n",
       "      <td>17.8</td>\n",
       "      <td>396.90</td>\n",
       "      <td>9.14</td>\n",
       "      <td>21.6</td>\n",
       "    </tr>\n",
       "    <tr>\n",
       "      <th>2</th>\n",
       "      <td>0.02729</td>\n",
       "      <td>0.0</td>\n",
       "      <td>7.07</td>\n",
       "      <td>0</td>\n",
       "      <td>0.469</td>\n",
       "      <td>7.185</td>\n",
       "      <td>61.1</td>\n",
       "      <td>4.9671</td>\n",
       "      <td>2</td>\n",
       "      <td>242.0</td>\n",
       "      <td>17.8</td>\n",
       "      <td>392.83</td>\n",
       "      <td>4.03</td>\n",
       "      <td>34.7</td>\n",
       "    </tr>\n",
       "    <tr>\n",
       "      <th>3</th>\n",
       "      <td>0.03237</td>\n",
       "      <td>0.0</td>\n",
       "      <td>2.18</td>\n",
       "      <td>0</td>\n",
       "      <td>0.458</td>\n",
       "      <td>6.998</td>\n",
       "      <td>45.8</td>\n",
       "      <td>6.0622</td>\n",
       "      <td>3</td>\n",
       "      <td>222.0</td>\n",
       "      <td>18.7</td>\n",
       "      <td>394.63</td>\n",
       "      <td>2.94</td>\n",
       "      <td>33.4</td>\n",
       "    </tr>\n",
       "    <tr>\n",
       "      <th>4</th>\n",
       "      <td>0.06905</td>\n",
       "      <td>0.0</td>\n",
       "      <td>2.18</td>\n",
       "      <td>0</td>\n",
       "      <td>0.458</td>\n",
       "      <td>7.147</td>\n",
       "      <td>54.2</td>\n",
       "      <td>6.0622</td>\n",
       "      <td>3</td>\n",
       "      <td>222.0</td>\n",
       "      <td>18.7</td>\n",
       "      <td>396.90</td>\n",
       "      <td>5.33</td>\n",
       "      <td>36.2</td>\n",
       "    </tr>\n",
       "  </tbody>\n",
       "</table>\n",
       "</div>"
      ],
      "text/plain": [
       "      CRIM    ZN  INDUS  CHAS    NOX     RM   AGE     DIS  RAD    TAX  \\\n",
       "0  0.00632  18.0   2.31     0  0.538  6.575  65.2  4.0900    1  296.0   \n",
       "1  0.02731   0.0   7.07     0  0.469  6.421  78.9  4.9671    2  242.0   \n",
       "2  0.02729   0.0   7.07     0  0.469  7.185  61.1  4.9671    2  242.0   \n",
       "3  0.03237   0.0   2.18     0  0.458  6.998  45.8  6.0622    3  222.0   \n",
       "4  0.06905   0.0   2.18     0  0.458  7.147  54.2  6.0622    3  222.0   \n",
       "\n",
       "   PTRATIO       B  LSTAT  MEDV  \n",
       "0     15.3  396.90   4.98  24.0  \n",
       "1     17.8  396.90   9.14  21.6  \n",
       "2     17.8  392.83   4.03  34.7  \n",
       "3     18.7  394.63   2.94  33.4  \n",
       "4     18.7  396.90   5.33  36.2  "
      ]
     },
     "execution_count": 8,
     "metadata": {},
     "output_type": "execute_result"
    }
   ],
   "source": [
    "data.head()"
   ]
  },
  {
   "cell_type": "code",
   "execution_count": 9,
   "metadata": {},
   "outputs": [
    {
     "data": {
      "text/plain": [
       "(506, 14)"
      ]
     },
     "execution_count": 9,
     "metadata": {},
     "output_type": "execute_result"
    }
   ],
   "source": [
    "data.shape"
   ]
  },
  {
   "cell_type": "markdown",
   "metadata": {
    "id": "VnW5gklgJGmb"
   },
   "source": [
    "This dataset has 506 rows (observations) and 14 columns (features) including our target variable MEDV. \n",
    "\n",
    "One thing to note right off the bat is the CHAS column is a binary variable and the RAD variable appears to be a categorical variable as well."
   ]
  },
  {
   "cell_type": "markdown",
   "metadata": {
    "id": "P0xTC3s2Svoi"
   },
   "source": [
    "# Dimension of the dataset"
   ]
  },
  {
   "cell_type": "markdown",
   "metadata": {
    "id": "fFD-4ip5TEHy"
   },
   "source": [
    "# Summary of Dataset"
   ]
  },
  {
   "cell_type": "markdown",
   "metadata": {
    "id": "h4IEtbGKUl-W"
   },
   "source": [
    "The info() method is useful to get a quick description of the data, in particular the total number of rows, and each attribute’s type and number of non-null values.\n",
    "\n",
    "It's important to understand the column types because a machine learning model can not use categorical variables. Categorical variables need to be encoded as numbers before being used by the model."
   ]
  },
  {
   "cell_type": "code",
   "execution_count": 10,
   "metadata": {
    "colab": {
     "base_uri": "https://localhost:8080/"
    },
    "id": "OeDE715fUinG",
    "outputId": "d35edae9-b958-40d6-c347-59b40c042bd8"
   },
   "outputs": [
    {
     "name": "stdout",
     "output_type": "stream",
     "text": [
      "<class 'pandas.core.frame.DataFrame'>\n",
      "RangeIndex: 506 entries, 0 to 505\n",
      "Data columns (total 14 columns):\n",
      " #   Column   Non-Null Count  Dtype  \n",
      "---  ------   --------------  -----  \n",
      " 0   CRIM     506 non-null    float64\n",
      " 1   ZN       506 non-null    float64\n",
      " 2   INDUS    506 non-null    float64\n",
      " 3   CHAS     506 non-null    int64  \n",
      " 4   NOX      506 non-null    float64\n",
      " 5   RM       506 non-null    float64\n",
      " 6   AGE      506 non-null    float64\n",
      " 7   DIS      506 non-null    float64\n",
      " 8   RAD      506 non-null    int64  \n",
      " 9   TAX      506 non-null    float64\n",
      " 10  PTRATIO  506 non-null    float64\n",
      " 11  B        506 non-null    float64\n",
      " 12  LSTAT    506 non-null    float64\n",
      " 13  MEDV     506 non-null    float64\n",
      "dtypes: float64(12), int64(2)\n",
      "memory usage: 55.5 KB\n"
     ]
    }
   ],
   "source": [
    "data.info()"
   ]
  },
  {
   "cell_type": "markdown",
   "metadata": {
    "id": "OY0ijS8RVB1n"
   },
   "source": [
    "All of the column types are either int64 or float64 which indicates they are all numeric columns.\n"
   ]
  },
  {
   "cell_type": "markdown",
   "metadata": {
    "id": "u6n1g3vrLJrZ"
   },
   "source": [
    "# Exploratory Data Analysis (EDA)\n",
    "\n",
    "EDA is the process of understanding what the data is telling us by calculating statistics and creating charts and figures.\n",
    "\n",
    "These statistics and charts can help find anomalies which could impact our analysis or find relationships and trends between the various features in our data.\n",
    "\n",
    "EDA starts off at a high level but narrows in scope as we find interesting patterns and relationships in our data."
   ]
  },
  {
   "cell_type": "markdown",
   "metadata": {
    "id": "lIzE9jRTEqJn"
   },
   "source": [
    "# Identifying the unique number of values in the dataset"
   ]
  },
  {
   "cell_type": "code",
   "execution_count": 11,
   "metadata": {
    "colab": {
     "base_uri": "https://localhost:8080/"
    },
    "id": "K4JUitOAEnzu",
    "outputId": "63ac2b59-0fdb-4d0f-b7ed-d2cd505985e8"
   },
   "outputs": [
    {
     "data": {
      "text/plain": [
       "CRIM       504\n",
       "ZN          26\n",
       "INDUS       76\n",
       "CHAS         2\n",
       "NOX         81\n",
       "RM         446\n",
       "AGE        356\n",
       "DIS        412\n",
       "RAD          9\n",
       "TAX         66\n",
       "PTRATIO     46\n",
       "B          357\n",
       "LSTAT      455\n",
       "MEDV       229\n",
       "dtype: int64"
      ]
     },
     "execution_count": 11,
     "metadata": {},
     "output_type": "execute_result"
    }
   ],
   "source": [
    "data.nunique()"
   ]
  },
  {
   "cell_type": "markdown",
   "metadata": {
    "id": "KMgifZMoEz_O"
   },
   "source": [
    "# check whether there are any null values present in our dataset."
   ]
  },
  {
   "cell_type": "code",
   "execution_count": 12,
   "metadata": {
    "colab": {
     "base_uri": "https://localhost:8080/"
    },
    "id": "pbdDfVejVUVO",
    "outputId": "00a3d455-100f-422a-ef3c-b11dbacc52f2"
   },
   "outputs": [
    {
     "data": {
      "text/plain": [
       "CRIM       0\n",
       "ZN         0\n",
       "INDUS      0\n",
       "CHAS       0\n",
       "NOX        0\n",
       "RM         0\n",
       "AGE        0\n",
       "DIS        0\n",
       "RAD        0\n",
       "TAX        0\n",
       "PTRATIO    0\n",
       "B          0\n",
       "LSTAT      0\n",
       "MEDV       0\n",
       "dtype: int64"
      ]
     },
     "execution_count": 12,
     "metadata": {},
     "output_type": "execute_result"
    }
   ],
   "source": [
    "data.isnull().sum()"
   ]
  },
  {
   "cell_type": "markdown",
   "metadata": {
    "id": "ndyyDHQq9gZJ"
   },
   "source": [
    "This is a very nice and clean dataset with no missing values. \n",
    "\n",
    "In most datasets this is not the case and it's very important to check for missing values because those will need to be delt with through dropping columns or imputing values."
   ]
  },
  {
   "cell_type": "markdown",
   "metadata": {
    "id": "yc6Aq5TUFIhs"
   },
   "source": [
    "# Viewing the data statistics"
   ]
  },
  {
   "cell_type": "code",
   "execution_count": 13,
   "metadata": {
    "_cell_guid": "3add881a-52cc-4645-9b2d-d88ecf7779e6",
    "_uuid": "d863cc1813036123eff9879a9387bd980bf0d0ac",
    "colab": {
     "base_uri": "https://localhost:8080/",
     "height": 300
    },
    "id": "5rre-GtUQpZe",
    "outputId": "828bf907-7d42-4a4b-9e2e-c7c6a7df237f"
   },
   "outputs": [
    {
     "data": {
      "text/html": [
       "<div>\n",
       "<style scoped>\n",
       "    .dataframe tbody tr th:only-of-type {\n",
       "        vertical-align: middle;\n",
       "    }\n",
       "\n",
       "    .dataframe tbody tr th {\n",
       "        vertical-align: top;\n",
       "    }\n",
       "\n",
       "    .dataframe thead th {\n",
       "        text-align: right;\n",
       "    }\n",
       "</style>\n",
       "<table border=\"1\" class=\"dataframe\">\n",
       "  <thead>\n",
       "    <tr style=\"text-align: right;\">\n",
       "      <th></th>\n",
       "      <th>CRIM</th>\n",
       "      <th>ZN</th>\n",
       "      <th>INDUS</th>\n",
       "      <th>CHAS</th>\n",
       "      <th>NOX</th>\n",
       "      <th>RM</th>\n",
       "      <th>AGE</th>\n",
       "      <th>DIS</th>\n",
       "      <th>RAD</th>\n",
       "      <th>TAX</th>\n",
       "      <th>PTRATIO</th>\n",
       "      <th>B</th>\n",
       "      <th>LSTAT</th>\n",
       "      <th>MEDV</th>\n",
       "    </tr>\n",
       "  </thead>\n",
       "  <tbody>\n",
       "    <tr>\n",
       "      <th>count</th>\n",
       "      <td>506.000000</td>\n",
       "      <td>506.000000</td>\n",
       "      <td>506.000000</td>\n",
       "      <td>506.000000</td>\n",
       "      <td>506.000000</td>\n",
       "      <td>506.000000</td>\n",
       "      <td>506.000000</td>\n",
       "      <td>506.000000</td>\n",
       "      <td>506.000000</td>\n",
       "      <td>506.000000</td>\n",
       "      <td>506.000000</td>\n",
       "      <td>506.000000</td>\n",
       "      <td>506.000000</td>\n",
       "      <td>506.000000</td>\n",
       "    </tr>\n",
       "    <tr>\n",
       "      <th>mean</th>\n",
       "      <td>3.613524</td>\n",
       "      <td>11.363636</td>\n",
       "      <td>11.136779</td>\n",
       "      <td>0.069170</td>\n",
       "      <td>0.554695</td>\n",
       "      <td>6.284634</td>\n",
       "      <td>68.574901</td>\n",
       "      <td>3.795043</td>\n",
       "      <td>9.549407</td>\n",
       "      <td>408.237154</td>\n",
       "      <td>18.455534</td>\n",
       "      <td>356.674032</td>\n",
       "      <td>12.653063</td>\n",
       "      <td>22.532806</td>\n",
       "    </tr>\n",
       "    <tr>\n",
       "      <th>std</th>\n",
       "      <td>8.601545</td>\n",
       "      <td>23.322453</td>\n",
       "      <td>6.860353</td>\n",
       "      <td>0.253994</td>\n",
       "      <td>0.115878</td>\n",
       "      <td>0.702617</td>\n",
       "      <td>28.148861</td>\n",
       "      <td>2.105710</td>\n",
       "      <td>8.707259</td>\n",
       "      <td>168.537116</td>\n",
       "      <td>2.164946</td>\n",
       "      <td>91.294864</td>\n",
       "      <td>7.141062</td>\n",
       "      <td>9.197104</td>\n",
       "    </tr>\n",
       "    <tr>\n",
       "      <th>min</th>\n",
       "      <td>0.006320</td>\n",
       "      <td>0.000000</td>\n",
       "      <td>0.460000</td>\n",
       "      <td>0.000000</td>\n",
       "      <td>0.385000</td>\n",
       "      <td>3.561000</td>\n",
       "      <td>2.900000</td>\n",
       "      <td>1.129600</td>\n",
       "      <td>1.000000</td>\n",
       "      <td>187.000000</td>\n",
       "      <td>12.600000</td>\n",
       "      <td>0.320000</td>\n",
       "      <td>1.730000</td>\n",
       "      <td>5.000000</td>\n",
       "    </tr>\n",
       "    <tr>\n",
       "      <th>25%</th>\n",
       "      <td>0.082045</td>\n",
       "      <td>0.000000</td>\n",
       "      <td>5.190000</td>\n",
       "      <td>0.000000</td>\n",
       "      <td>0.449000</td>\n",
       "      <td>5.885500</td>\n",
       "      <td>45.025000</td>\n",
       "      <td>2.100175</td>\n",
       "      <td>4.000000</td>\n",
       "      <td>279.000000</td>\n",
       "      <td>17.400000</td>\n",
       "      <td>375.377500</td>\n",
       "      <td>6.950000</td>\n",
       "      <td>17.025000</td>\n",
       "    </tr>\n",
       "    <tr>\n",
       "      <th>50%</th>\n",
       "      <td>0.256510</td>\n",
       "      <td>0.000000</td>\n",
       "      <td>9.690000</td>\n",
       "      <td>0.000000</td>\n",
       "      <td>0.538000</td>\n",
       "      <td>6.208500</td>\n",
       "      <td>77.500000</td>\n",
       "      <td>3.207450</td>\n",
       "      <td>5.000000</td>\n",
       "      <td>330.000000</td>\n",
       "      <td>19.050000</td>\n",
       "      <td>391.440000</td>\n",
       "      <td>11.360000</td>\n",
       "      <td>21.200000</td>\n",
       "    </tr>\n",
       "    <tr>\n",
       "      <th>75%</th>\n",
       "      <td>3.677083</td>\n",
       "      <td>12.500000</td>\n",
       "      <td>18.100000</td>\n",
       "      <td>0.000000</td>\n",
       "      <td>0.624000</td>\n",
       "      <td>6.623500</td>\n",
       "      <td>94.075000</td>\n",
       "      <td>5.188425</td>\n",
       "      <td>24.000000</td>\n",
       "      <td>666.000000</td>\n",
       "      <td>20.200000</td>\n",
       "      <td>396.225000</td>\n",
       "      <td>16.955000</td>\n",
       "      <td>25.000000</td>\n",
       "    </tr>\n",
       "    <tr>\n",
       "      <th>max</th>\n",
       "      <td>88.976200</td>\n",
       "      <td>100.000000</td>\n",
       "      <td>27.740000</td>\n",
       "      <td>1.000000</td>\n",
       "      <td>0.871000</td>\n",
       "      <td>8.780000</td>\n",
       "      <td>100.000000</td>\n",
       "      <td>12.126500</td>\n",
       "      <td>24.000000</td>\n",
       "      <td>711.000000</td>\n",
       "      <td>22.000000</td>\n",
       "      <td>396.900000</td>\n",
       "      <td>37.970000</td>\n",
       "      <td>50.000000</td>\n",
       "    </tr>\n",
       "  </tbody>\n",
       "</table>\n",
       "</div>"
      ],
      "text/plain": [
       "             CRIM          ZN       INDUS        CHAS         NOX          RM  \\\n",
       "count  506.000000  506.000000  506.000000  506.000000  506.000000  506.000000   \n",
       "mean     3.613524   11.363636   11.136779    0.069170    0.554695    6.284634   \n",
       "std      8.601545   23.322453    6.860353    0.253994    0.115878    0.702617   \n",
       "min      0.006320    0.000000    0.460000    0.000000    0.385000    3.561000   \n",
       "25%      0.082045    0.000000    5.190000    0.000000    0.449000    5.885500   \n",
       "50%      0.256510    0.000000    9.690000    0.000000    0.538000    6.208500   \n",
       "75%      3.677083   12.500000   18.100000    0.000000    0.624000    6.623500   \n",
       "max     88.976200  100.000000   27.740000    1.000000    0.871000    8.780000   \n",
       "\n",
       "              AGE         DIS         RAD         TAX     PTRATIO           B  \\\n",
       "count  506.000000  506.000000  506.000000  506.000000  506.000000  506.000000   \n",
       "mean    68.574901    3.795043    9.549407  408.237154   18.455534  356.674032   \n",
       "std     28.148861    2.105710    8.707259  168.537116    2.164946   91.294864   \n",
       "min      2.900000    1.129600    1.000000  187.000000   12.600000    0.320000   \n",
       "25%     45.025000    2.100175    4.000000  279.000000   17.400000  375.377500   \n",
       "50%     77.500000    3.207450    5.000000  330.000000   19.050000  391.440000   \n",
       "75%     94.075000    5.188425   24.000000  666.000000   20.200000  396.225000   \n",
       "max    100.000000   12.126500   24.000000  711.000000   22.000000  396.900000   \n",
       "\n",
       "            LSTAT        MEDV  \n",
       "count  506.000000  506.000000  \n",
       "mean    12.653063   22.532806  \n",
       "std      7.141062    9.197104  \n",
       "min      1.730000    5.000000  \n",
       "25%      6.950000   17.025000  \n",
       "50%     11.360000   21.200000  \n",
       "75%     16.955000   25.000000  \n",
       "max     37.970000   50.000000  "
      ]
     },
     "execution_count": 13,
     "metadata": {},
     "output_type": "execute_result"
    }
   ],
   "source": [
    "data.describe()"
   ]
  },
  {
   "cell_type": "markdown",
   "metadata": {
    "_cell_guid": "b14f79c3-60ce-4d90-b0ec-7e69bd4bb186",
    "_uuid": "94b4ddb51d694c35dbab357788b7e5c4517ecc39",
    "id": "gDpBSpRJQpZf"
   },
   "source": [
    "Observations:\n",
    "1. ZN (proportion of residential land zoned for lots over 25,000 sq.ft.)  with 0 for 25th, 50th percentiles. \n",
    "\n",
    "2. CHAS: Charles River dummy variable (1 if tract bounds river; 0 otherwise) with 0 for 25th, 50th and 75th percentiles. \n",
    "\n",
    "3. These summeries are understandable as both variables are conditional + categorical variables. \n",
    "\n",
    "4. First assumption would be that these coulms may not be useful in regression task such as predicting MEDV (Median value of owner-occupied homes)."
   ]
  },
  {
   "cell_type": "markdown",
   "metadata": {
    "_cell_guid": "5351963b-40ee-4d8b-9729-6a64d35758c3",
    "_uuid": "8ce0ad3eb7208d0488057dc74dc06419fbfc210b",
    "id": "C-9wg-CRQpZg"
   },
   "source": [
    "5. Another interesing fact on the dataset is the max value of MEDV. \n",
    "\n",
    "6. From the original data description, it says: Variable #14 seems to be clipped at 50.00 (corresponding to a median price of $50,000). \n",
    "\n",
    "7. Based on that, values above 50.00 may not help to predict MEDV. \n"
   ]
  },
  {
   "cell_type": "markdown",
   "metadata": {
    "id": "07LAqI0nLWoI"
   },
   "source": [
    "# Plotting the data"
   ]
  },
  {
   "cell_type": "markdown",
   "metadata": {
    "id": "ehz6IQbGUWtw"
   },
   "source": [
    "One quick way to get a feel of the type of data you are dealing with is to plot a histogram for each numerical attribute. \n",
    "\n",
    "A histogram shows the number of instances (on the vertical axis) that have a given value range (on the horizontal axis). \n",
    "\n",
    "You can either plot this one attribute at a time, or you can call the hist() method on the whole dataset, and it will plot a histogram for each numerical attribute."
   ]
  },
  {
   "cell_type": "code",
   "execution_count": 14,
   "metadata": {
    "colab": {
     "base_uri": "https://localhost:8080/",
     "height": 879
    },
    "id": "Oqon5bk9Tp6Z",
    "outputId": "c2439600-cec6-4fad-bb3d-40b7b59fbaa0"
   },
   "outputs": [
    {
     "data": {
      "image/png": "[encoded data removed]",
      "text/plain": [
       "<Figure size 1440x1080 with 16 Axes>"
      ]
     },
     "metadata": {
      "needs_background": "light"
     },
     "output_type": "display_data"
    }
   ],
   "source": [
    "data.hist(bins=50, figsize=(20,15))\n",
    "plt.show()"
   ]
  },
  {
   "cell_type": "markdown",
   "metadata": {
    "id": "mOIQzlgt764i"
   },
   "source": [
    "# Notice a few things in these histograms:"
   ]
  },
  {
   "cell_type": "markdown",
   "metadata": {
    "id": "zo32jlPQ7mwS"
   },
   "source": [
    "1. These attributes have very different scales. \n",
    "\n",
    "2. The histogram also shows that columns CRIM, ZN, B has highly skewed distributions. \n",
    "\n",
    "3. Also MEDV looks to have a normal distribution (the predictions) and other colums seem to have normal or bimodel ditribution of data except CHAS (which is a discrete variable).\n",
    "\n"
   ]
  },
  {
   "cell_type": "markdown",
   "metadata": {
    "id": "ynB-ACbeJooK"
   },
   "source": [
    "# Examine the distribution and summary statistics of the MEDV (Target) column"
   ]
  },
  {
   "cell_type": "markdown",
   "metadata": {
    "id": "a1cH0cZIJq9a"
   },
   "source": [
    "Our task is basicallyn creating a model that uses the 13 features in our dataset to predict the MEDV column, which is the median home value of each home in the dataset (in thousands)."
   ]
  },
  {
   "cell_type": "code",
   "execution_count": 15,
   "metadata": {
    "colab": {
     "base_uri": "https://localhost:8080/",
     "height": 265
    },
    "id": "XmXpBucFJ1Bj",
    "outputId": "821fad60-0b5e-4569-af91-2dd92c259b1c"
   },
   "outputs": [
    {
     "data": {
      "image/png": "[encoded data removed]",
      "text/plain": [
       "<Figure size 432x288 with 1 Axes>"
      ]
     },
     "metadata": {
      "needs_background": "light"
     },
     "output_type": "display_data"
    }
   ],
   "source": [
    "plt.hist(data['MEDV'], bins=50)\n",
    "plt.show()"
   ]
  },
  {
   "cell_type": "markdown",
   "metadata": {
    "id": "1_MIajpdKVuR"
   },
   "source": [
    "We can see the distribution of the target column is slightly right-skewed with mean around 22.\n",
    "There do appear to be a few outliers on the higher end of the MEDV price distribution\n",
    "\n",
    "MEDV seems to be clipped at 50.00 (corresponding to a median price of $50,000)."
   ]
  },
  {
   "cell_type": "markdown",
   "metadata": {
    "id": "OLtP4DDD95uD"
   },
   "source": [
    "# Detecting outliers in the dataset"
   ]
  },
  {
   "cell_type": "markdown",
   "metadata": {
    "id": "jYrI98tI-Fs6"
   },
   "source": [
    "Outliers are observations that lie far away from majority of observations in the dataset and can be represented mathematically in different ways."
   ]
  },
  {
   "cell_type": "markdown",
   "metadata": {
    "id": "UpqOwTwu-ugB"
   },
   "source": [
    "One method of defining outliers are: outliers are data points lying beyond (third quartile + 1.5xIQR) and below (first quartile - 1.5xIQR).\n",
    "\n",
    "IQR is the range between the first and the third quartiles namely Q1 and Q3: IQR = Q3 – Q1\n",
    "\n",
    "The function below takes a dataframe and outputs the number of outliers in every numeric feature based on the above rule of IQR.\n",
    "\n"
   ]
  },
  {
   "cell_type": "code",
   "execution_count": 16,
   "metadata": {
    "_cell_guid": "3db29b4c-9c8c-4457-8064-91d6c3b5ed50",
    "_uuid": "b80e456c7039e0d5c1c3f61e33cb8041ded81622",
    "colab": {
     "base_uri": "https://localhost:8080/",
     "height": 488
    },
    "id": "iKqHcCv5QpZj",
    "outputId": "479cfa3e-7c58-4787-ee18-7ab168844f0a"
   },
   "outputs": [
    {
     "data": {
      "text/html": [
       "<div>\n",
       "<style scoped>\n",
       "    .dataframe tbody tr th:only-of-type {\n",
       "        vertical-align: middle;\n",
       "    }\n",
       "\n",
       "    .dataframe tbody tr th {\n",
       "        vertical-align: top;\n",
       "    }\n",
       "\n",
       "    .dataframe thead th {\n",
       "        text-align: right;\n",
       "    }\n",
       "</style>\n",
       "<table border=\"1\" class=\"dataframe\">\n",
       "  <thead>\n",
       "    <tr style=\"text-align: right;\">\n",
       "      <th></th>\n",
       "      <th>Feature</th>\n",
       "      <th>Number of Outliers</th>\n",
       "    </tr>\n",
       "  </thead>\n",
       "  <tbody>\n",
       "    <tr>\n",
       "      <th>0</th>\n",
       "      <td>CRIM</td>\n",
       "      <td>66</td>\n",
       "    </tr>\n",
       "    <tr>\n",
       "      <th>1</th>\n",
       "      <td>ZN</td>\n",
       "      <td>68</td>\n",
       "    </tr>\n",
       "    <tr>\n",
       "      <th>2</th>\n",
       "      <td>INDUS</td>\n",
       "      <td>0</td>\n",
       "    </tr>\n",
       "    <tr>\n",
       "      <th>3</th>\n",
       "      <td>CHAS</td>\n",
       "      <td>35</td>\n",
       "    </tr>\n",
       "    <tr>\n",
       "      <th>4</th>\n",
       "      <td>NOX</td>\n",
       "      <td>0</td>\n",
       "    </tr>\n",
       "    <tr>\n",
       "      <th>5</th>\n",
       "      <td>RM</td>\n",
       "      <td>30</td>\n",
       "    </tr>\n",
       "    <tr>\n",
       "      <th>6</th>\n",
       "      <td>AGE</td>\n",
       "      <td>0</td>\n",
       "    </tr>\n",
       "    <tr>\n",
       "      <th>7</th>\n",
       "      <td>DIS</td>\n",
       "      <td>5</td>\n",
       "    </tr>\n",
       "    <tr>\n",
       "      <th>8</th>\n",
       "      <td>RAD</td>\n",
       "      <td>0</td>\n",
       "    </tr>\n",
       "    <tr>\n",
       "      <th>9</th>\n",
       "      <td>TAX</td>\n",
       "      <td>0</td>\n",
       "    </tr>\n",
       "    <tr>\n",
       "      <th>10</th>\n",
       "      <td>PTRATIO</td>\n",
       "      <td>15</td>\n",
       "    </tr>\n",
       "    <tr>\n",
       "      <th>11</th>\n",
       "      <td>B</td>\n",
       "      <td>77</td>\n",
       "    </tr>\n",
       "    <tr>\n",
       "      <th>12</th>\n",
       "      <td>LSTAT</td>\n",
       "      <td>7</td>\n",
       "    </tr>\n",
       "    <tr>\n",
       "      <th>13</th>\n",
       "      <td>MEDV</td>\n",
       "      <td>40</td>\n",
       "    </tr>\n",
       "  </tbody>\n",
       "</table>\n",
       "</div>"
      ],
      "text/plain": [
       "    Feature Number of Outliers\n",
       "0      CRIM                 66\n",
       "1        ZN                 68\n",
       "2     INDUS                  0\n",
       "3      CHAS                 35\n",
       "4       NOX                  0\n",
       "5        RM                 30\n",
       "6       AGE                  0\n",
       "7       DIS                  5\n",
       "8       RAD                  0\n",
       "9       TAX                  0\n",
       "10  PTRATIO                 15\n",
       "11        B                 77\n",
       "12    LSTAT                  7\n",
       "13     MEDV                 40"
      ]
     },
     "execution_count": 16,
     "metadata": {},
     "output_type": "execute_result"
    }
   ],
   "source": [
    "# Function to detect outliers in every feature\n",
    "def detect_outliers(data):\n",
    "    cols = list(data)\n",
    "    outliers = pd.DataFrame(columns = ['Feature', 'Number of Outliers'])\n",
    "    for column in cols:\n",
    "        if column in data.select_dtypes(include=np.number).columns:\n",
    "            q1 = data[column].quantile(0.25)\n",
    "            q3 = data[column].quantile(0.75)\n",
    "            iqr = q3 - q1\n",
    "            fence_low = q1 - (1.5*iqr)\n",
    "            fence_high = q3 + (1.5*iqr)\n",
    "            outliers = outliers.append({'Feature':column, 'Number of Outliers':data.loc[(data[column] < fence_low) | (data[column] > fence_high)].shape[0]},ignore_index=True)\n",
    "    return outliers\n",
    "\n",
    "detect_outliers(data)"
   ]
  },
  {
   "cell_type": "code",
   "execution_count": 17,
   "metadata": {
    "colab": {
     "base_uri": "https://localhost:8080/"
    },
    "id": "_I12Cp4YCsCN",
    "outputId": "929afd43-936b-4dff-e3cc-5050aeebf130"
   },
   "outputs": [
    {
     "name": "stdout",
     "output_type": "stream",
     "text": [
      "Column CRIM outliers = 13.04%\n",
      "Column ZN outliers = 13.44%\n",
      "Column INDUS outliers = 0.00%\n",
      "Column CHAS outliers = 100.00%\n",
      "Column NOX outliers = 0.00%\n",
      "Column RM outliers = 5.93%\n",
      "Column AGE outliers = 0.00%\n",
      "Column DIS outliers = 0.99%\n",
      "Column RAD outliers = 0.00%\n",
      "Column TAX outliers = 0.00%\n",
      "Column PTRATIO outliers = 2.96%\n",
      "Column B outliers = 15.22%\n",
      "Column LSTAT outliers = 1.38%\n",
      "Column MEDV outliers = 7.91%\n"
     ]
    }
   ],
   "source": [
    "for k, v in data.items():\n",
    "  q1 = v.quantile(0.25)\n",
    "  q3 = v.quantile(0.75)\n",
    "  irq = q3 - q1\n",
    "  v_col = v[(v <= q1 - 1.5 * irq) | (v >= q3 + 1.5 * irq)]\n",
    "  perc = np.shape(v_col)[0] * 100.0 / np.shape(data)[0]\n",
    "  print(\"Column %s outliers = %.2f%%\" % (k, perc))"
   ]
  },
  {
   "cell_type": "markdown",
   "metadata": {
    "id": "PR58_LKS_0xK"
   },
   "source": [
    "There are outliers in almost all the columns.\n",
    "lets see how we can deal with the outliers."
   ]
  },
  {
   "cell_type": "markdown",
   "metadata": {
    "_cell_guid": "6866af51-50df-4e4a-b268-e29420cb0a99",
    "_uuid": "0251bc88b63788f481a2c05a0ab02acd640a3a8f",
    "id": "OuLFY433QpZk"
   },
   "source": [
    "# Remove MEDV outliers (MEDV = 50.0) before plotting more distributions"
   ]
  },
  {
   "cell_type": "code",
   "execution_count": 18,
   "metadata": {
    "_cell_guid": "451b476c-6bb5-41b6-abe7-18721c4ea082",
    "_uuid": "4a9d02c119dc56238c7071f1d1d2077708e6b649",
    "colab": {
     "base_uri": "https://localhost:8080/"
    },
    "id": "TY-IBYeWQpZk",
    "outputId": "45f91725-98d1-4703-e194-769fad84f28f",
    "scrolled": true
   },
   "outputs": [
    {
     "name": "stdout",
     "output_type": "stream",
     "text": [
      "(490, 14)\n"
     ]
    }
   ],
   "source": [
    "data = data[~(data['MEDV'] >= 50.0)]\n",
    "print(np.shape(data))"
   ]
  },
  {
   "cell_type": "code",
   "execution_count": 29,
   "metadata": {},
   "outputs": [
    {
     "name": "stdout",
     "output_type": "stream",
     "text": [
      "capping the  CRIM\n",
      "capping the  ZN\n",
      "capping the  INDUS\n",
      "capping the  CHAS\n",
      "capping the  NOX\n",
      "capping the  RM\n",
      "capping the  AGE\n",
      "capping the  DIS\n",
      "capping the  RAD\n",
      "capping the  TAX\n",
      "capping the  PTRATIO\n",
      "capping the  B\n",
      "capping the  LSTAT\n",
      "capping the  MEDV\n"
     ]
    }
   ],
   "source": [
    "#function to remove outliers from all columns\n",
    "\n",
    "def cap_data(data):\n",
    "    for col in data.columns:\n",
    "        print(\"capping the \",col)\n",
    "        if (((data[col].dtype)=='float64') | ((data[col].dtype)=='int64')):\n",
    "            percentiles = data[col].quantile([0.01,0.99]).values\n",
    "            data[col][data[col] <= percentiles[0]] = percentiles[0]\n",
    "            data[col][data[col] >= percentiles[1]] = percentiles[1]\n",
    "        else:\n",
    "            data[col]=data[col]\n",
    "    return data\n",
    "\n",
    "\n",
    "df = cap_data(data)"
   ]
  },
  {
   "cell_type": "code",
   "execution_count": 30,
   "metadata": {},
   "outputs": [
    {
     "data": {
      "text/html": [
       "<div>\n",
       "<style scoped>\n",
       "    .dataframe tbody tr th:only-of-type {\n",
       "        vertical-align: middle;\n",
       "    }\n",
       "\n",
       "    .dataframe tbody tr th {\n",
       "        vertical-align: top;\n",
       "    }\n",
       "\n",
       "    .dataframe thead th {\n",
       "        text-align: right;\n",
       "    }\n",
       "</style>\n",
       "<table border=\"1\" class=\"dataframe\">\n",
       "  <thead>\n",
       "    <tr style=\"text-align: right;\">\n",
       "      <th></th>\n",
       "      <th>Feature</th>\n",
       "      <th>Number of Outliers</th>\n",
       "    </tr>\n",
       "  </thead>\n",
       "  <tbody>\n",
       "    <tr>\n",
       "      <th>0</th>\n",
       "      <td>CRIM</td>\n",
       "      <td>65</td>\n",
       "    </tr>\n",
       "    <tr>\n",
       "      <th>1</th>\n",
       "      <td>ZN</td>\n",
       "      <td>65</td>\n",
       "    </tr>\n",
       "    <tr>\n",
       "      <th>2</th>\n",
       "      <td>INDUS</td>\n",
       "      <td>0</td>\n",
       "    </tr>\n",
       "    <tr>\n",
       "      <th>3</th>\n",
       "      <td>CHAS</td>\n",
       "      <td>29</td>\n",
       "    </tr>\n",
       "    <tr>\n",
       "      <th>4</th>\n",
       "      <td>NOX</td>\n",
       "      <td>0</td>\n",
       "    </tr>\n",
       "    <tr>\n",
       "      <th>5</th>\n",
       "      <td>RM</td>\n",
       "      <td>23</td>\n",
       "    </tr>\n",
       "    <tr>\n",
       "      <th>6</th>\n",
       "      <td>AGE</td>\n",
       "      <td>0</td>\n",
       "    </tr>\n",
       "    <tr>\n",
       "      <th>7</th>\n",
       "      <td>DIS</td>\n",
       "      <td>0</td>\n",
       "    </tr>\n",
       "    <tr>\n",
       "      <th>8</th>\n",
       "      <td>RAD</td>\n",
       "      <td>0</td>\n",
       "    </tr>\n",
       "    <tr>\n",
       "      <th>9</th>\n",
       "      <td>TAX</td>\n",
       "      <td>0</td>\n",
       "    </tr>\n",
       "    <tr>\n",
       "      <th>10</th>\n",
       "      <td>PTRATIO</td>\n",
       "      <td>13</td>\n",
       "    </tr>\n",
       "    <tr>\n",
       "      <th>11</th>\n",
       "      <td>B</td>\n",
       "      <td>78</td>\n",
       "    </tr>\n",
       "    <tr>\n",
       "      <th>12</th>\n",
       "      <td>LSTAT</td>\n",
       "      <td>7</td>\n",
       "    </tr>\n",
       "    <tr>\n",
       "      <th>13</th>\n",
       "      <td>MEDV</td>\n",
       "      <td>22</td>\n",
       "    </tr>\n",
       "  </tbody>\n",
       "</table>\n",
       "</div>"
      ],
      "text/plain": [
       "    Feature Number of Outliers\n",
       "0      CRIM                 65\n",
       "1        ZN                 65\n",
       "2     INDUS                  0\n",
       "3      CHAS                 29\n",
       "4       NOX                  0\n",
       "5        RM                 23\n",
       "6       AGE                  0\n",
       "7       DIS                  0\n",
       "8       RAD                  0\n",
       "9       TAX                  0\n",
       "10  PTRATIO                 13\n",
       "11        B                 78\n",
       "12    LSTAT                  7\n",
       "13     MEDV                 22"
      ]
     },
     "execution_count": 30,
     "metadata": {},
     "output_type": "execute_result"
    }
   ],
   "source": [
    "#checking outliers again\n",
    "\n",
    "detect_outliers(df)"
   ]
  },
  {
   "cell_type": "markdown",
   "metadata": {
    "_cell_guid": "b4f07967-903d-47ea-9bec-6153e8b18446",
    "_uuid": "d75be26652e9370e490a535db7433f636767a1a8",
    "id": "6dnLiOqwQpZl"
   },
   "source": [
    "Let's see how these features plus MEDV distributions looks like"
   ]
  },
  {
   "cell_type": "code",
   "execution_count": 82,
   "metadata": {
    "colab": {
     "base_uri": "https://localhost:8080/",
     "height": 879
    },
    "id": "t0lmni1QFr7i",
    "outputId": "08b85f8d-8134-4b0c-ac80-5387aab6ea1b"
   },
   "outputs": [
    {
     "data": {
      "image/png": "[encoded data removed]",
      "text/plain": [
       "<Figure size 2000x1500 with 16 Axes>"
      ]
     },
     "metadata": {},
     "output_type": "display_data"
    }
   ],
   "source": [
    "data.hist(bins=50, figsize=(20,15))\n",
    "plt.show()"
   ]
  },
  {
   "cell_type": "markdown",
   "metadata": {
    "id": "aw_d_XX6Np73"
   },
   "source": [
    "Observations"
   ]
  },
  {
   "cell_type": "markdown",
   "metadata": {
    "_cell_guid": "3a7c16fb-3c18-4d76-8ceb-602f43b90aef",
    "_uuid": "a0a4b0a6a28538e9ad4df92da49856f599c25383",
    "id": "wZym_Gk3QpZl"
   },
   "source": [
    "1. The histogram also shows that columns CRIM, ZN, B has highly skewed distributions. \n",
    "\n",
    "2. target variable MEDV looks to have a normal distribution (the predictions) \n",
    "\n",
    "3. other colums seem to have normal or bimodel ditribution of data except CHAS (which is a discrete variable).\n",
    "\n"
   ]
  },
  {
   "cell_type": "markdown",
   "metadata": {
    "id": "pWjlBrP9NuCA"
   },
   "source": [
    "# Correlation\n",
    "\n",
    "let's plot the pairwise  correlation on data."
   ]
  },
  {
   "cell_type": "code",
   "execution_count": 83,
   "metadata": {
    "colab": {
     "base_uri": "https://localhost:8080/",
     "height": 488
    },
    "id": "Ff18oTZMN3xQ",
    "outputId": "f118a33f-517d-42f8-d13c-b10a9a6154bf"
   },
   "outputs": [
    {
     "data": {
      "text/html": [
       "<div>\n",
       "<style scoped>\n",
       "    .dataframe tbody tr th:only-of-type {\n",
       "        vertical-align: middle;\n",
       "    }\n",
       "\n",
       "    .dataframe tbody tr th {\n",
       "        vertical-align: top;\n",
       "    }\n",
       "\n",
       "    .dataframe thead th {\n",
       "        text-align: right;\n",
       "    }\n",
       "</style>\n",
       "<table border=\"1\" class=\"dataframe\">\n",
       "  <thead>\n",
       "    <tr style=\"text-align: right;\">\n",
       "      <th></th>\n",
       "      <th>CRIM</th>\n",
       "      <th>ZN</th>\n",
       "      <th>INDUS</th>\n",
       "      <th>CHAS</th>\n",
       "      <th>NOX</th>\n",
       "      <th>RM</th>\n",
       "      <th>AGE</th>\n",
       "      <th>DIS</th>\n",
       "      <th>RAD</th>\n",
       "      <th>TAX</th>\n",
       "      <th>PTRATIO</th>\n",
       "      <th>B</th>\n",
       "      <th>LSTAT</th>\n",
       "      <th>MEDV</th>\n",
       "    </tr>\n",
       "  </thead>\n",
       "  <tbody>\n",
       "    <tr>\n",
       "      <th>CRIM</th>\n",
       "      <td>1.000000</td>\n",
       "      <td>-0.199075</td>\n",
       "      <td>0.408053</td>\n",
       "      <td>-0.064210</td>\n",
       "      <td>0.420476</td>\n",
       "      <td>-0.219307</td>\n",
       "      <td>0.353751</td>\n",
       "      <td>-0.382231</td>\n",
       "      <td>0.627434</td>\n",
       "      <td>0.583711</td>\n",
       "      <td>0.287079</td>\n",
       "      <td>-0.384460</td>\n",
       "      <td>0.461755</td>\n",
       "      <td>-0.450115</td>\n",
       "    </tr>\n",
       "    <tr>\n",
       "      <th>ZN</th>\n",
       "      <td>-0.199075</td>\n",
       "      <td>1.000000</td>\n",
       "      <td>-0.527121</td>\n",
       "      <td>-0.053911</td>\n",
       "      <td>-0.512137</td>\n",
       "      <td>0.310506</td>\n",
       "      <td>-0.563184</td>\n",
       "      <td>0.673227</td>\n",
       "      <td>-0.307726</td>\n",
       "      <td>-0.302897</td>\n",
       "      <td>-0.381815</td>\n",
       "      <td>0.176117</td>\n",
       "      <td>-0.422090</td>\n",
       "      <td>0.404608</td>\n",
       "    </tr>\n",
       "    <tr>\n",
       "      <th>INDUS</th>\n",
       "      <td>0.408053</td>\n",
       "      <td>-0.527121</td>\n",
       "      <td>1.000000</td>\n",
       "      <td>0.035815</td>\n",
       "      <td>0.765155</td>\n",
       "      <td>-0.412413</td>\n",
       "      <td>0.637970</td>\n",
       "      <td>-0.710284</td>\n",
       "      <td>0.596124</td>\n",
       "      <td>0.717678</td>\n",
       "      <td>0.387656</td>\n",
       "      <td>-0.363394</td>\n",
       "      <td>0.636527</td>\n",
       "      <td>-0.600005</td>\n",
       "    </tr>\n",
       "    <tr>\n",
       "      <th>CHAS</th>\n",
       "      <td>-0.064210</td>\n",
       "      <td>-0.053911</td>\n",
       "      <td>0.035815</td>\n",
       "      <td>1.000000</td>\n",
       "      <td>0.085619</td>\n",
       "      <td>0.044979</td>\n",
       "      <td>0.071194</td>\n",
       "      <td>-0.077705</td>\n",
       "      <td>-0.032786</td>\n",
       "      <td>-0.067743</td>\n",
       "      <td>-0.116830</td>\n",
       "      <td>0.041707</td>\n",
       "      <td>-0.006486</td>\n",
       "      <td>0.074803</td>\n",
       "    </tr>\n",
       "    <tr>\n",
       "      <th>NOX</th>\n",
       "      <td>0.420476</td>\n",
       "      <td>-0.512137</td>\n",
       "      <td>0.765155</td>\n",
       "      <td>0.085619</td>\n",
       "      <td>1.000000</td>\n",
       "      <td>-0.322609</td>\n",
       "      <td>0.727671</td>\n",
       "      <td>-0.768122</td>\n",
       "      <td>0.612160</td>\n",
       "      <td>0.667380</td>\n",
       "      <td>0.188381</td>\n",
       "      <td>-0.383087</td>\n",
       "      <td>0.612444</td>\n",
       "      <td>-0.524451</td>\n",
       "    </tr>\n",
       "    <tr>\n",
       "      <th>RM</th>\n",
       "      <td>-0.219307</td>\n",
       "      <td>0.310506</td>\n",
       "      <td>-0.412413</td>\n",
       "      <td>0.044979</td>\n",
       "      <td>-0.322609</td>\n",
       "      <td>1.000000</td>\n",
       "      <td>-0.268464</td>\n",
       "      <td>0.245789</td>\n",
       "      <td>-0.195768</td>\n",
       "      <td>-0.281955</td>\n",
       "      <td>-0.293299</td>\n",
       "      <td>0.119204</td>\n",
       "      <td>-0.610369</td>\n",
       "      <td>0.686634</td>\n",
       "    </tr>\n",
       "    <tr>\n",
       "      <th>AGE</th>\n",
       "      <td>0.353751</td>\n",
       "      <td>-0.563184</td>\n",
       "      <td>0.637970</td>\n",
       "      <td>0.071194</td>\n",
       "      <td>0.727671</td>\n",
       "      <td>-0.268464</td>\n",
       "      <td>1.000000</td>\n",
       "      <td>-0.743043</td>\n",
       "      <td>0.451939</td>\n",
       "      <td>0.499682</td>\n",
       "      <td>0.268459</td>\n",
       "      <td>-0.279002</td>\n",
       "      <td>0.637879</td>\n",
       "      <td>-0.492915</td>\n",
       "    </tr>\n",
       "    <tr>\n",
       "      <th>DIS</th>\n",
       "      <td>-0.382231</td>\n",
       "      <td>0.673227</td>\n",
       "      <td>-0.710284</td>\n",
       "      <td>-0.077705</td>\n",
       "      <td>-0.768122</td>\n",
       "      <td>0.245789</td>\n",
       "      <td>-0.743043</td>\n",
       "      <td>1.000000</td>\n",
       "      <td>-0.491875</td>\n",
       "      <td>-0.532025</td>\n",
       "      <td>-0.246773</td>\n",
       "      <td>0.299426</td>\n",
       "      <td>-0.536493</td>\n",
       "      <td>0.368813</td>\n",
       "    </tr>\n",
       "    <tr>\n",
       "      <th>RAD</th>\n",
       "      <td>0.627434</td>\n",
       "      <td>-0.307726</td>\n",
       "      <td>0.596124</td>\n",
       "      <td>-0.032786</td>\n",
       "      <td>0.612160</td>\n",
       "      <td>-0.195768</td>\n",
       "      <td>0.451939</td>\n",
       "      <td>-0.491875</td>\n",
       "      <td>1.000000</td>\n",
       "      <td>0.909000</td>\n",
       "      <td>0.456035</td>\n",
       "      <td>-0.451534</td>\n",
       "      <td>0.510192</td>\n",
       "      <td>-0.476296</td>\n",
       "    </tr>\n",
       "    <tr>\n",
       "      <th>TAX</th>\n",
       "      <td>0.583711</td>\n",
       "      <td>-0.302897</td>\n",
       "      <td>0.717678</td>\n",
       "      <td>-0.067743</td>\n",
       "      <td>0.667380</td>\n",
       "      <td>-0.281955</td>\n",
       "      <td>0.499682</td>\n",
       "      <td>-0.532025</td>\n",
       "      <td>0.909000</td>\n",
       "      <td>1.000000</td>\n",
       "      <td>0.452252</td>\n",
       "      <td>-0.448211</td>\n",
       "      <td>0.566467</td>\n",
       "      <td>-0.572442</td>\n",
       "    </tr>\n",
       "    <tr>\n",
       "      <th>PTRATIO</th>\n",
       "      <td>0.287079</td>\n",
       "      <td>-0.381815</td>\n",
       "      <td>0.387656</td>\n",
       "      <td>-0.116830</td>\n",
       "      <td>0.188381</td>\n",
       "      <td>-0.293299</td>\n",
       "      <td>0.268459</td>\n",
       "      <td>-0.246773</td>\n",
       "      <td>0.456035</td>\n",
       "      <td>0.452252</td>\n",
       "      <td>1.000000</td>\n",
       "      <td>-0.173636</td>\n",
       "      <td>0.358023</td>\n",
       "      <td>-0.518641</td>\n",
       "    </tr>\n",
       "    <tr>\n",
       "      <th>B</th>\n",
       "      <td>-0.384460</td>\n",
       "      <td>0.176117</td>\n",
       "      <td>-0.363394</td>\n",
       "      <td>0.041707</td>\n",
       "      <td>-0.383087</td>\n",
       "      <td>0.119204</td>\n",
       "      <td>-0.279002</td>\n",
       "      <td>0.299426</td>\n",
       "      <td>-0.451534</td>\n",
       "      <td>-0.448211</td>\n",
       "      <td>-0.173636</td>\n",
       "      <td>1.000000</td>\n",
       "      <td>-0.364099</td>\n",
       "      <td>0.364928</td>\n",
       "    </tr>\n",
       "    <tr>\n",
       "      <th>LSTAT</th>\n",
       "      <td>0.461755</td>\n",
       "      <td>-0.422090</td>\n",
       "      <td>0.636527</td>\n",
       "      <td>-0.006486</td>\n",
       "      <td>0.612444</td>\n",
       "      <td>-0.610369</td>\n",
       "      <td>0.637879</td>\n",
       "      <td>-0.536493</td>\n",
       "      <td>0.510192</td>\n",
       "      <td>0.566467</td>\n",
       "      <td>0.358023</td>\n",
       "      <td>-0.364099</td>\n",
       "      <td>1.000000</td>\n",
       "      <td>-0.759837</td>\n",
       "    </tr>\n",
       "    <tr>\n",
       "      <th>MEDV</th>\n",
       "      <td>-0.450115</td>\n",
       "      <td>0.404608</td>\n",
       "      <td>-0.600005</td>\n",
       "      <td>0.074803</td>\n",
       "      <td>-0.524451</td>\n",
       "      <td>0.686634</td>\n",
       "      <td>-0.492915</td>\n",
       "      <td>0.368813</td>\n",
       "      <td>-0.476296</td>\n",
       "      <td>-0.572442</td>\n",
       "      <td>-0.518641</td>\n",
       "      <td>0.364928</td>\n",
       "      <td>-0.759837</td>\n",
       "      <td>1.000000</td>\n",
       "    </tr>\n",
       "  </tbody>\n",
       "</table>\n",
       "</div>"
      ],
      "text/plain": [
       "             CRIM        ZN     INDUS      CHAS       NOX        RM       AGE  \\\n",
       "CRIM     1.000000 -0.199075  0.408053 -0.064210  0.420476 -0.219307  0.353751   \n",
       "ZN      -0.199075  1.000000 -0.527121 -0.053911 -0.512137  0.310506 -0.563184   \n",
       "INDUS    0.408053 -0.527121  1.000000  0.035815  0.765155 -0.412413  0.637970   \n",
       "CHAS    -0.064210 -0.053911  0.035815  1.000000  0.085619  0.044979  0.071194   \n",
       "NOX      0.420476 -0.512137  0.765155  0.085619  1.000000 -0.322609  0.727671   \n",
       "RM      -0.219307  0.310506 -0.412413  0.044979 -0.322609  1.000000 -0.268464   \n",
       "AGE      0.353751 -0.563184  0.637970  0.071194  0.727671 -0.268464  1.000000   \n",
       "DIS     -0.382231  0.673227 -0.710284 -0.077705 -0.768122  0.245789 -0.743043   \n",
       "RAD      0.627434 -0.307726  0.596124 -0.032786  0.612160 -0.195768  0.451939   \n",
       "TAX      0.583711 -0.302897  0.717678 -0.067743  0.667380 -0.281955  0.499682   \n",
       "PTRATIO  0.287079 -0.381815  0.387656 -0.116830  0.188381 -0.293299  0.268459   \n",
       "B       -0.384460  0.176117 -0.363394  0.041707 -0.383087  0.119204 -0.279002   \n",
       "LSTAT    0.461755 -0.422090  0.636527 -0.006486  0.612444 -0.610369  0.637879   \n",
       "MEDV    -0.450115  0.404608 -0.600005  0.074803 -0.524451  0.686634 -0.492915   \n",
       "\n",
       "              DIS       RAD       TAX   PTRATIO         B     LSTAT      MEDV  \n",
       "CRIM    -0.382231  0.627434  0.583711  0.287079 -0.384460  0.461755 -0.450115  \n",
       "ZN       0.673227 -0.307726 -0.302897 -0.381815  0.176117 -0.422090  0.404608  \n",
       "INDUS   -0.710284  0.596124  0.717678  0.387656 -0.363394  0.636527 -0.600005  \n",
       "CHAS    -0.077705 -0.032786 -0.067743 -0.116830  0.041707 -0.006486  0.074803  \n",
       "NOX     -0.768122  0.612160  0.667380  0.188381 -0.383087  0.612444 -0.524451  \n",
       "RM       0.245789 -0.195768 -0.281955 -0.293299  0.119204 -0.610369  0.686634  \n",
       "AGE     -0.743043  0.451939  0.499682  0.268459 -0.279002  0.637879 -0.492915  \n",
       "DIS      1.000000 -0.491875 -0.532025 -0.246773  0.299426 -0.536493  0.368813  \n",
       "RAD     -0.491875  1.000000  0.909000  0.456035 -0.451534  0.510192 -0.476296  \n",
       "TAX     -0.532025  0.909000  1.000000  0.452252 -0.448211  0.566467 -0.572442  \n",
       "PTRATIO -0.246773  0.456035  0.452252  1.000000 -0.173636  0.358023 -0.518641  \n",
       "B        0.299426 -0.451534 -0.448211 -0.173636  1.000000 -0.364099  0.364928  \n",
       "LSTAT   -0.536493  0.510192  0.566467  0.358023 -0.364099  1.000000 -0.759837  \n",
       "MEDV     0.368813 -0.476296 -0.572442 -0.518641  0.364928 -0.759837  1.000000  "
      ]
     },
     "execution_count": 83,
     "metadata": {},
     "output_type": "execute_result"
    }
   ],
   "source": [
    "data.corr()"
   ]
  },
  {
   "cell_type": "markdown",
   "metadata": {
    "_cell_guid": "938c8cce-a377-4450-be3d-9d56e2b10f25",
    "_uuid": "6740116517c45740b4c60b2626b6eb477051a52c",
    "id": "fUrSDpH8QpZm"
   },
   "source": [
    "# Observations:\n",
    "\n",
    "1. From correlation matrix, we see TAX and RAD are highly correlated features (Corr factor=0.909). Same goes for the features DIS and AGE which have a correlation of -0.743.\n",
    "\n",
    "2. An important point in selecting features for a linear regression model is to check for multi-co-linearity. As the features (RAD, TAX) and (DIS, AGE)have high correlation, these feature pairs are strongly correlated to each other. We should not select these features together for training the model.\n",
    "\n",
    "3. The feature LSTAT has a correlation factor -0.76 with target variable MEDV. The feature RM has a correlation factor 0.69 with target variable MEDV.\n",
    "other features INDUS, TAX, NOX, PTRAIO has a correlation score above 0.5 with MEDV. \n",
    "This high value of correlation factor is a good indication of using as predictors."
   ]
  },
  {
   "cell_type": "markdown",
   "metadata": {
    "id": "Yz2JC3lMTG56"
   },
   "source": [
    "# Divide dataset into input and target variable"
   ]
  },
  {
   "cell_type": "code",
   "execution_count": null,
   "metadata": {
    "id": "qoBatNTYTO2j"
   },
   "outputs": [],
   "source": [
    "X = data.iloc[:, :-1]\n",
    "Y = data.iloc[:, -1]"
   ]
  },
  {
   "cell_type": "code",
   "execution_count": null,
   "metadata": {
    "colab": {
     "base_uri": "https://localhost:8080/"
    },
    "id": "3j-D4kQrTTwq",
    "outputId": "e6a13c95-c42e-4dc7-b711-44da717dc52a"
   },
   "outputs": [],
   "source": [
    "X.shape, Y.shape"
   ]
  },
  {
   "cell_type": "code",
   "execution_count": null,
   "metadata": {
    "colab": {
     "base_uri": "https://localhost:8080/"
    },
    "id": "TJs-7R9R0ME9",
    "outputId": "df5953a7-0913-48b4-b95d-3911b62c7fd7"
   },
   "outputs": [],
   "source": [
    "type(X)"
   ]
  },
  {
   "cell_type": "markdown",
   "metadata": {
    "id": "C6pRlQZlPnvy"
   },
   "source": [
    "# Feature Scaling\n",
    "\n",
    "One of the most important preprocessing step is is feature\n",
    "scaling. \n",
    "\n",
    "With few exceptions, Machine Learning algorithms generally don’t perform well when the input numerical attributes have very different scales. \n",
    "\n",
    "Note that scaling the target values is generally not required."
   ]
  },
  {
   "cell_type": "markdown",
   "metadata": {
    "id": "dLCqriVTQcRR"
   },
   "source": [
    "There are two common ways to get all attributes to have the same scale: min-max\n",
    "scaling and standardization.\n",
    "\n",
    "Min-max scaling: subtracting the min value and dividing by the max minus the min.\n",
    "\n",
    "Standardization: first it subtracts the mean value (so standardized\n",
    "values always have a zero mean), and then it divides by the standard deviation so that\n",
    "the resulting distribution has unit variance. \n",
    "\n",
    "standardization is much less affected by outliers."
   ]
  },
  {
   "cell_type": "markdown",
   "metadata": {
    "id": "uxHFZSt6RWXn"
   },
   "source": [
    "The advantage of Standardisation over the other is that it doesn't compress the data between a particular range as in Min-Max scaling. This is useful, especially if there are extreme data point (outlier)."
   ]
  },
  {
   "cell_type": "code",
   "execution_count": 84,
   "metadata": {
    "_cell_guid": "8f8a04f5-b4b0-44dc-9034-6b937fe4a530",
    "_uuid": "f03c64c06e33c098efef836457991d49056b7e2a",
    "id": "3Z59UnhgQpZm"
   },
   "outputs": [],
   "source": [
    "from sklearn.preprocessing import StandardScaler\n",
    "sc= StandardScaler()"
   ]
  },
  {
   "cell_type": "code",
   "execution_count": 85,
   "metadata": {
    "id": "CLI8wXEB868-"
   },
   "outputs": [],
   "source": [
    "X_column_names = ['CRIM', 'ZN', 'INDUS', 'CHAS', 'NOX', 'RM', 'AGE', 'DIS', 'RAD', 'TAX', 'PTRATIO', 'B', 'LSTAT']\n",
    "X_tr= pd.DataFrame(data=sc.fit_transform(X), columns=X_column_names)"
   ]
  },
  {
   "cell_type": "code",
   "execution_count": 86,
   "metadata": {
    "colab": {
     "base_uri": "https://localhost:8080/",
     "height": 206
    },
    "id": "4IoUu_q20QTE",
    "outputId": "a6432cf6-6939-4ab1-9e6a-b14890b7cddd"
   },
   "outputs": [
    {
     "data": {
      "text/html": [
       "<div>\n",
       "<style scoped>\n",
       "    .dataframe tbody tr th:only-of-type {\n",
       "        vertical-align: middle;\n",
       "    }\n",
       "\n",
       "    .dataframe tbody tr th {\n",
       "        vertical-align: top;\n",
       "    }\n",
       "\n",
       "    .dataframe thead th {\n",
       "        text-align: right;\n",
       "    }\n",
       "</style>\n",
       "<table border=\"1\" class=\"dataframe\">\n",
       "  <thead>\n",
       "    <tr style=\"text-align: right;\">\n",
       "      <th></th>\n",
       "      <th>CRIM</th>\n",
       "      <th>ZN</th>\n",
       "      <th>INDUS</th>\n",
       "      <th>CHAS</th>\n",
       "      <th>NOX</th>\n",
       "      <th>RM</th>\n",
       "      <th>AGE</th>\n",
       "      <th>DIS</th>\n",
       "      <th>RAD</th>\n",
       "      <th>TAX</th>\n",
       "      <th>PTRATIO</th>\n",
       "      <th>B</th>\n",
       "      <th>LSTAT</th>\n",
       "    </tr>\n",
       "  </thead>\n",
       "  <tbody>\n",
       "    <tr>\n",
       "      <th>0</th>\n",
       "      <td>-0.417401</td>\n",
       "      <td>0.301813</td>\n",
       "      <td>-1.291856</td>\n",
       "      <td>-0.250812</td>\n",
       "      <td>-0.139895</td>\n",
       "      <td>0.505040</td>\n",
       "      <td>-0.109432</td>\n",
       "      <td>0.121208</td>\n",
       "      <td>-0.980635</td>\n",
       "      <td>-0.667101</td>\n",
       "      <td>-1.527280</td>\n",
       "      <td>0.443535</td>\n",
       "      <td>-1.122679</td>\n",
       "    </tr>\n",
       "    <tr>\n",
       "      <th>1</th>\n",
       "      <td>-0.414992</td>\n",
       "      <td>-0.486924</td>\n",
       "      <td>-0.593329</td>\n",
       "      <td>-0.250812</td>\n",
       "      <td>-0.731821</td>\n",
       "      <td>0.269017</td>\n",
       "      <td>0.377488</td>\n",
       "      <td>0.537330</td>\n",
       "      <td>-0.865459</td>\n",
       "      <td>-0.988734</td>\n",
       "      <td>-0.341504</td>\n",
       "      <td>0.443535</td>\n",
       "      <td>-0.534772</td>\n",
       "    </tr>\n",
       "    <tr>\n",
       "      <th>2</th>\n",
       "      <td>-0.414995</td>\n",
       "      <td>-0.486924</td>\n",
       "      <td>-0.593329</td>\n",
       "      <td>-0.250812</td>\n",
       "      <td>-0.731821</td>\n",
       "      <td>1.439934</td>\n",
       "      <td>-0.255152</td>\n",
       "      <td>0.537330</td>\n",
       "      <td>-0.865459</td>\n",
       "      <td>-0.988734</td>\n",
       "      <td>-0.341504</td>\n",
       "      <td>0.399553</td>\n",
       "      <td>-1.256937</td>\n",
       "    </tr>\n",
       "    <tr>\n",
       "      <th>3</th>\n",
       "      <td>-0.414412</td>\n",
       "      <td>-0.486924</td>\n",
       "      <td>-1.310933</td>\n",
       "      <td>-0.250812</td>\n",
       "      <td>-0.826186</td>\n",
       "      <td>1.153335</td>\n",
       "      <td>-0.798939</td>\n",
       "      <td>1.056878</td>\n",
       "      <td>-0.750284</td>\n",
       "      <td>-1.107857</td>\n",
       "      <td>0.085376</td>\n",
       "      <td>0.419005</td>\n",
       "      <td>-1.410980</td>\n",
       "    </tr>\n",
       "    <tr>\n",
       "      <th>4</th>\n",
       "      <td>-0.410202</td>\n",
       "      <td>-0.486924</td>\n",
       "      <td>-1.310933</td>\n",
       "      <td>-0.250812</td>\n",
       "      <td>-0.826186</td>\n",
       "      <td>1.381694</td>\n",
       "      <td>-0.500390</td>\n",
       "      <td>1.056878</td>\n",
       "      <td>-0.750284</td>\n",
       "      <td>-1.107857</td>\n",
       "      <td>0.085376</td>\n",
       "      <td>0.443535</td>\n",
       "      <td>-1.073216</td>\n",
       "    </tr>\n",
       "  </tbody>\n",
       "</table>\n",
       "</div>"
      ],
      "text/plain": [
       "       CRIM        ZN     INDUS      CHAS       NOX        RM       AGE  \\\n",
       "0 -0.417401  0.301813 -1.291856 -0.250812 -0.139895  0.505040 -0.109432   \n",
       "1 -0.414992 -0.486924 -0.593329 -0.250812 -0.731821  0.269017  0.377488   \n",
       "2 -0.414995 -0.486924 -0.593329 -0.250812 -0.731821  1.439934 -0.255152   \n",
       "3 -0.414412 -0.486924 -1.310933 -0.250812 -0.826186  1.153335 -0.798939   \n",
       "4 -0.410202 -0.486924 -1.310933 -0.250812 -0.826186  1.381694 -0.500390   \n",
       "\n",
       "        DIS       RAD       TAX   PTRATIO         B     LSTAT  \n",
       "0  0.121208 -0.980635 -0.667101 -1.527280  0.443535 -1.122679  \n",
       "1  0.537330 -0.865459 -0.988734 -0.341504  0.443535 -0.534772  \n",
       "2  0.537330 -0.865459 -0.988734 -0.341504  0.399553 -1.256937  \n",
       "3  1.056878 -0.750284 -1.107857  0.085376  0.419005 -1.410980  \n",
       "4  1.056878 -0.750284 -1.107857  0.085376  0.443535 -1.073216  "
      ]
     },
     "execution_count": 86,
     "metadata": {},
     "output_type": "execute_result"
    }
   ],
   "source": [
    "X_tr.head()"
   ]
  },
  {
   "cell_type": "code",
   "execution_count": null,
   "metadata": {
    "colab": {
     "base_uri": "https://localhost:8080/",
     "height": 300
    },
    "id": "KKkb5cG2diY6",
    "outputId": "103214e8-0c57-4b8b-9e41-7723d4b082b5"
   },
   "outputs": [],
   "source": [
    "X_tr.describe()"
   ]
  },
  {
   "cell_type": "code",
   "execution_count": null,
   "metadata": {
    "colab": {
     "base_uri": "https://localhost:8080/",
     "height": 879
    },
    "id": "jgw61ai7hmVd",
    "outputId": "c1e8a220-97c7-427f-f7bf-e057dd047f88"
   },
   "outputs": [],
   "source": [
    "X_tr.hist(bins=50, figsize=(20,15))\n",
    "plt.show()"
   ]
  },
  {
   "cell_type": "markdown",
   "metadata": {
    "id": "i6QEewcdhXMH"
   },
   "source": [
    "# Observations\n",
    "\n",
    "1. These attributes do have very different scales anymore. \n"
   ]
  },
  {
   "cell_type": "markdown",
   "metadata": {
    "id": "CNUgnnSWVTgG"
   },
   "source": [
    "# Splitting the dataset into the Training set and Test set"
   ]
  },
  {
   "cell_type": "code",
   "execution_count": 87,
   "metadata": {
    "id": "dWusPGFRU4H5"
   },
   "outputs": [],
   "source": [
    "from sklearn.model_selection import train_test_split\n",
    "X_train, X_test, Y_train,Y_test = train_test_split(X_tr,Y, test_size=0.2, random_state=42)"
   ]
  },
  {
   "cell_type": "code",
   "execution_count": 88,
   "metadata": {
    "colab": {
     "base_uri": "https://localhost:8080/"
    },
    "id": "mc5smIemWF1V",
    "outputId": "e777e0db-a0ed-451a-ee20-30341216d70f"
   },
   "outputs": [
    {
     "data": {
      "text/plain": [
       "((392, 13), (98, 13))"
      ]
     },
     "execution_count": 88,
     "metadata": {},
     "output_type": "execute_result"
    }
   ],
   "source": [
    "X_train.shape, X_test.shape"
   ]
  },
  {
   "cell_type": "markdown",
   "metadata": {
    "id": "Gy7IeXE2WFB-"
   },
   "source": [
    "# Training the Simple Linear Regression model on the Training set using all features"
   ]
  },
  {
   "cell_type": "code",
   "execution_count": null,
   "metadata": {
    "colab": {
     "base_uri": "https://localhost:8080/"
    },
    "id": "xlM0GCMQWgUz",
    "outputId": "47b1077f-5192-4bbb-fa78-ffcc75da384b"
   },
   "outputs": [],
   "source": [
    "from sklearn.linear_model import LinearRegression\n",
    "lin_reg= LinearRegression()\n",
    "lin_reg.fit(X_train, Y_train)\n"
   ]
  },
  {
   "cell_type": "markdown",
   "metadata": {
    "id": "9G5_7c71W_kK"
   },
   "source": [
    "# Predicting the Test set results"
   ]
  },
  {
   "cell_type": "code",
   "execution_count": 89,
   "metadata": {
    "id": "G1mlyfsIXCwp"
   },
   "outputs": [],
   "source": [
    "Y_train_pred= lin_reg.predict(X_train)"
   ]
  },
  {
   "cell_type": "markdown",
   "metadata": {
    "id": "WWKoGhHFXWC4"
   },
   "source": [
    "# Model performance the Training set results"
   ]
  },
  {
   "cell_type": "markdown",
   "metadata": {
    "id": "e--Se_2brF8Q"
   },
   "source": [
    "The mean squared error (MSE) tells you how close a regression line is to a set of points. \n",
    "It does this by taking the distances from the points to the regression line (these distances are the “errors”) and squaring them."
   ]
  },
  {
   "cell_type": "code",
   "execution_count": null,
   "metadata": {
    "colab": {
     "base_uri": "https://localhost:8080/"
    },
    "id": "_Omav81wX-UW",
    "outputId": "5e00db39-8e7c-4845-d908-0a05bd335c4b"
   },
   "outputs": [],
   "source": [
    "from sklearn.metrics import mean_squared_error\n",
    "MSE= mean_squared_error(Y_train, Y_train_pred)\n",
    "MSE"
   ]
  },
  {
   "cell_type": "markdown",
   "metadata": {
    "id": "abvHu3pZawio"
   },
   "source": [
    "RMSE (Root mean squared error) is square root of MSE.\n",
    "\n",
    "RMSE= MSE**0.5"
   ]
  },
  {
   "cell_type": "code",
   "execution_count": null,
   "metadata": {
    "colab": {
     "base_uri": "https://localhost:8080/"
    },
    "id": "PaMO2x7ra0Yv",
    "outputId": "9c57e1f8-39b0-46d1-d31a-a920befe7438"
   },
   "outputs": [],
   "source": [
    "RMSE= MSE**0.5\n",
    "RMSE"
   ]
  },
  {
   "cell_type": "markdown",
   "metadata": {
    "id": "gHcrTLvor16-"
   },
   "source": [
    "Mean Absolute Error (MEA) is the average of the differences between the predicted values (values predicted by our regression model) and the actual values."
   ]
  },
  {
   "cell_type": "code",
   "execution_count": null,
   "metadata": {
    "colab": {
     "base_uri": "https://localhost:8080/"
    },
    "id": "tjRSSn3AYlfP",
    "outputId": "770b2e7b-95fb-44e8-96d9-3b000022584f"
   },
   "outputs": [],
   "source": [
    "from sklearn.metrics import mean_absolute_error\n",
    "MAE= mean_absolute_error(Y_train, Y_train_pred)\n",
    "MAE"
   ]
  },
  {
   "cell_type": "markdown",
   "metadata": {
    "id": "4ATgKLxfddk_"
   },
   "source": [
    "# R2 score\n",
    "R squared value also known as coefficient of determination is a statistical performance measure for a regression model.\n",
    "\n",
    "R-squared = (TSS-RSS)/TSS.\n",
    "\n",
    "TSS (Total Sum of Squares): sum of squares of the difference between the actual values and their mean.\n",
    "\n",
    "RSS (Residual Sum of Squares): Sum of squares of the distance of actual values from the regression line (predicted value)\n",
    "\n",
    "R squared value must be as high as possible (max value=1)"
   ]
  },
  {
   "cell_type": "code",
   "execution_count": 90,
   "metadata": {
    "colab": {
     "base_uri": "https://localhost:8080/"
    },
    "id": "yXWnRO21YvZX",
    "outputId": "8140245a-ec70-475f-8ab8-29c050edc2b1"
   },
   "outputs": [
    {
     "data": {
      "text/plain": [
       "0.7764851110521345"
      ]
     },
     "execution_count": 90,
     "metadata": {},
     "output_type": "execute_result"
    }
   ],
   "source": [
    "from sklearn.metrics import r2_score\n",
    "R2= r2_score(Y_train, Y_train_pred)\n",
    "R2"
   ]
  },
  {
   "cell_type": "markdown",
   "metadata": {
    "id": "rAi9_NvOZwxX"
   },
   "source": [
    "# Adjusted R Squares\n",
    "\n",
    "The Adjusted R-squared takes into account the number of independent variables used for predicting the target variable. In doing so, we can determine whether adding new variables to the model actually increases the model fit.\n",
    "\n",
    "\n",
    "Adj r2 = 1-[(1-R2)*(n-1)/(n-p-1)]\n",
    "\n",
    "Where n is the sample size and p is the number of independent variables."
   ]
  },
  {
   "cell_type": "code",
   "execution_count": null,
   "metadata": {
    "colab": {
     "base_uri": "https://localhost:8080/"
    },
    "id": "9JH78qfzaC0B",
    "outputId": "2bf5d853-7269-4d7f-c379-538352979dcc"
   },
   "outputs": [],
   "source": [
    "n,p= X_train.shape\n",
    "n,p"
   ]
  },
  {
   "cell_type": "code",
   "execution_count": null,
   "metadata": {
    "colab": {
     "base_uri": "https://localhost:8080/"
    },
    "id": "SXOkNdnXaNGm",
    "outputId": "7e9b72a3-4d0e-47d4-bba0-32b1fdfd5ecd"
   },
   "outputs": [],
   "source": [
    "Adj_R2 = 1-((1-R2)*(n-1)/(n-p-1))\n",
    "Adj_R2"
   ]
  },
  {
   "cell_type": "markdown",
   "metadata": {
    "id": "BDFkQtn7bS1v"
   },
   "source": [
    "# RFE: Recursive feature elimination\n",
    "\n",
    "Given an external estimator( e.g. a linear model), the goal of recursive feature elimination (RFE) is to select features by recursively considering smaller and smaller sets of features. \n",
    "\n",
    "First, the estimator is trained on the initial set of features and the importance of each feature is obtained either through any specific attribute or callable. \n",
    "\n",
    "Then, the least important features are pruned from current set of features. That procedure is recursively repeated on the pruned set until the desired number of features to select is eventually reached."
   ]
  },
  {
   "cell_type": "code",
   "execution_count": 91,
   "metadata": {
    "id": "5s90cJRwbcYW"
   },
   "outputs": [],
   "source": [
    "from sklearn.feature_selection import RFE\n",
    "rfe=RFE(lin_reg, n_features_to_select=8)"
   ]
  },
  {
   "cell_type": "code",
   "execution_count": 92,
   "metadata": {
    "colab": {
     "base_uri": "https://localhost:8080/"
    },
    "id": "sbcEFXVNsp2R",
    "outputId": "dc8897bb-dd1e-41da-d589-aaa8844289f1"
   },
   "outputs": [
    {
     "data": {
      "text/html": [
       "<style>#sk-container-id-4 {color: black;background-color: white;}#sk-container-id-4 pre{padding: 0;}#sk-container-id-4 div.sk-toggleable {background-color: white;}#sk-container-id-4 label.sk-toggleable__label {cursor: pointer;display: block;width: 100%;margin-bottom: 0;padding: 0.3em;box-sizing: border-box;text-align: center;}#sk-container-id-4 label.sk-toggleable__label-arrow:before {content: \"▸\";float: left;margin-right: 0.25em;color: #696969;}#sk-container-id-4 label.sk-toggleable__label-arrow:hover:before {color: black;}#sk-container-id-4 div.sk-estimator:hover label.sk-toggleable__label-arrow:before {color: black;}#sk-container-id-4 div.sk-toggleable__content {max-height: 0;max-width: 0;overflow: hidden;text-align: left;background-color: #f0f8ff;}#sk-container-id-4 div.sk-toggleable__content pre {margin: 0.2em;color: black;border-radius: 0.25em;background-color: #f0f8ff;}#sk-container-id-4 input.sk-toggleable__control:checked~div.sk-toggleable__content {max-height: 200px;max-width: 100%;overflow: auto;}#sk-container-id-4 input.sk-toggleable__control:checked~label.sk-toggleable__label-arrow:before {content: \"▾\";}#sk-container-id-4 div.sk-estimator input.sk-toggleable__control:checked~label.sk-toggleable__label {background-color: #d4ebff;}#sk-container-id-4 div.sk-label input.sk-toggleable__control:checked~label.sk-toggleable__label {background-color: #d4ebff;}#sk-container-id-4 input.sk-hidden--visually {border: 0;clip: rect(1px 1px 1px 1px);clip: rect(1px, 1px, 1px, 1px);height: 1px;margin: -1px;overflow: hidden;padding: 0;position: absolute;width: 1px;}#sk-container-id-4 div.sk-estimator {font-family: monospace;background-color: #f0f8ff;border: 1px dotted black;border-radius: 0.25em;box-sizing: border-box;margin-bottom: 0.5em;}#sk-container-id-4 div.sk-estimator:hover {background-color: #d4ebff;}#sk-container-id-4 div.sk-parallel-item::after {content: \"\";width: 100%;border-bottom: 1px solid gray;flex-grow: 1;}#sk-container-id-4 div.sk-label:hover label.sk-toggleable__label {background-color: #d4ebff;}#sk-container-id-4 div.sk-serial::before {content: \"\";position: absolute;border-left: 1px solid gray;box-sizing: border-box;top: 0;bottom: 0;left: 50%;z-index: 0;}#sk-container-id-4 div.sk-serial {display: flex;flex-direction: column;align-items: center;background-color: white;padding-right: 0.2em;padding-left: 0.2em;position: relative;}#sk-container-id-4 div.sk-item {position: relative;z-index: 1;}#sk-container-id-4 div.sk-parallel {display: flex;align-items: stretch;justify-content: center;background-color: white;position: relative;}#sk-container-id-4 div.sk-item::before, #sk-container-id-4 div.sk-parallel-item::before {content: \"\";position: absolute;border-left: 1px solid gray;box-sizing: border-box;top: 0;bottom: 0;left: 50%;z-index: -1;}#sk-container-id-4 div.sk-parallel-item {display: flex;flex-direction: column;z-index: 1;position: relative;background-color: white;}#sk-container-id-4 div.sk-parallel-item:first-child::after {align-self: flex-end;width: 50%;}#sk-container-id-4 div.sk-parallel-item:last-child::after {align-self: flex-start;width: 50%;}#sk-container-id-4 div.sk-parallel-item:only-child::after {width: 0;}#sk-container-id-4 div.sk-dashed-wrapped {border: 1px dashed gray;margin: 0 0.4em 0.5em 0.4em;box-sizing: border-box;padding-bottom: 0.4em;background-color: white;}#sk-container-id-4 div.sk-label label {font-family: monospace;font-weight: bold;display: inline-block;line-height: 1.2em;}#sk-container-id-4 div.sk-label-container {text-align: center;}#sk-container-id-4 div.sk-container {/* jupyter's `normalize.less` sets `[hidden] { display: none; }` but bootstrap.min.css set `[hidden] { display: none !important; }` so we also need the `!important` here to be able to override the default hidden behavior on the sphinx rendered scikit-learn.org. See: https://github.com/scikit-learn/scikit-learn/issues/21755 */display: inline-block !important;position: relative;}#sk-container-id-4 div.sk-text-repr-fallback {display: none;}</style><div id=\"sk-container-id-4\" class=\"sk-top-container\"><div class=\"sk-text-repr-fallback\"><pre>RFE(estimator=LinearRegression(), n_features_to_select=8)</pre><b>In a Jupyter environment, please rerun this cell to show the HTML representation or trust the notebook. <br />On GitHub, the HTML representation is unable to render, please try loading this page with nbviewer.org.</b></div><div class=\"sk-container\" hidden><div class=\"sk-item sk-dashed-wrapped\"><div class=\"sk-label-container\"><div class=\"sk-label sk-toggleable\"><input class=\"sk-toggleable__control sk-hidden--visually\" id=\"sk-estimator-id-6\" type=\"checkbox\" ><label for=\"sk-estimator-id-6\" class=\"sk-toggleable__label sk-toggleable__label-arrow\">RFE</label><div class=\"sk-toggleable__content\"><pre>RFE(estimator=LinearRegression(), n_features_to_select=8)</pre></div></div></div><div class=\"sk-parallel\"><div class=\"sk-parallel-item\"><div class=\"sk-item\"><div class=\"sk-label-container\"><div class=\"sk-label sk-toggleable\"><input class=\"sk-toggleable__control sk-hidden--visually\" id=\"sk-estimator-id-7\" type=\"checkbox\" ><label for=\"sk-estimator-id-7\" class=\"sk-toggleable__label sk-toggleable__label-arrow\">estimator: LinearRegression</label><div class=\"sk-toggleable__content\"><pre>LinearRegression()</pre></div></div></div><div class=\"sk-serial\"><div class=\"sk-item\"><div class=\"sk-estimator sk-toggleable\"><input class=\"sk-toggleable__control sk-hidden--visually\" id=\"sk-estimator-id-8\" type=\"checkbox\" ><label for=\"sk-estimator-id-8\" class=\"sk-toggleable__label sk-toggleable__label-arrow\">LinearRegression</label><div class=\"sk-toggleable__content\"><pre>LinearRegression()</pre></div></div></div></div></div></div></div></div></div></div>"
      ],
      "text/plain": [
       "RFE(estimator=LinearRegression(), n_features_to_select=8)"
      ]
     },
     "execution_count": 92,
     "metadata": {},
     "output_type": "execute_result"
    }
   ],
   "source": [
    "rfe.fit(X_train, Y_train)"
   ]
  },
  {
   "cell_type": "code",
   "execution_count": 93,
   "metadata": {
    "colab": {
     "base_uri": "https://localhost:8080/"
    },
    "id": "qxAN9sz_tZSe",
    "outputId": "e16dc42a-c29b-46fb-fb50-30f79c8ad622"
   },
   "outputs": [
    {
     "data": {
      "text/plain": [
       "0.7627520598011375"
      ]
     },
     "execution_count": 93,
     "metadata": {},
     "output_type": "execute_result"
    }
   ],
   "source": [
    "RFE_R2= r2_score(Y_train, rfe.predict(X_train))\n",
    "RFE_R2"
   ]
  },
  {
   "cell_type": "code",
   "execution_count": 94,
   "metadata": {
    "colab": {
     "base_uri": "https://localhost:8080/"
    },
    "id": "NmWlUBI5uSwb",
    "outputId": "70e82e49-7207-410f-f8da-c93f3493daa5"
   },
   "outputs": [
    {
     "data": {
      "text/plain": [
       "[('CRIM', True, 1),\n",
       " ('ZN', False, 2),\n",
       " ('INDUS', False, 5),\n",
       " ('CHAS', False, 6),\n",
       " ('NOX', True, 1),\n",
       " ('RM', True, 1),\n",
       " ('AGE', False, 4),\n",
       " ('DIS', True, 1),\n",
       " ('RAD', True, 1),\n",
       " ('TAX', True, 1),\n",
       " ('PTRATIO', True, 1),\n",
       " ('B', False, 3),\n",
       " ('LSTAT', True, 1)]"
      ]
     },
     "execution_count": 94,
     "metadata": {},
     "output_type": "execute_result"
    }
   ],
   "source": [
    "list(zip(X_train.columns,rfe.support_,rfe.ranking_))"
   ]
  },
  {
   "cell_type": "code",
   "execution_count": 95,
   "metadata": {
    "colab": {
     "base_uri": "https://localhost:8080/"
    },
    "id": "kaFgUWptxZU6",
    "outputId": "cfc44798-0f85-4f56-89a5-c71c01e3409c"
   },
   "outputs": [
    {
     "data": {
      "text/plain": [
       "Index(['CRIM', 'NOX', 'RM', 'DIS', 'RAD', 'TAX', 'PTRATIO', 'LSTAT'], dtype='object')"
      ]
     },
     "execution_count": 95,
     "metadata": {},
     "output_type": "execute_result"
    }
   ],
   "source": [
    "col = X_train.columns[rfe.support_]\n",
    "col"
   ]
  },
  {
   "cell_type": "code",
   "execution_count": 96,
   "metadata": {
    "colab": {
     "base_uri": "https://localhost:8080/"
    },
    "id": "qyq7atKuxj_R",
    "outputId": "ea19e303-44e8-46df-cf72-2657116e1a72"
   },
   "outputs": [
    {
     "data": {
      "text/plain": [
       "Index(['ZN', 'INDUS', 'CHAS', 'AGE', 'B'], dtype='object')"
      ]
     },
     "execution_count": 96,
     "metadata": {},
     "output_type": "execute_result"
    }
   ],
   "source": [
    "X_train.columns[~rfe.support_]"
   ]
  },
  {
   "cell_type": "code",
   "execution_count": 97,
   "metadata": {
    "id": "o7BqNDYW4a41"
   },
   "outputs": [],
   "source": [
    "X_train_rfe=X_train[col]"
   ]
  },
  {
   "cell_type": "code",
   "execution_count": 98,
   "metadata": {
    "colab": {
     "base_uri": "https://localhost:8080/"
    },
    "id": "wyUJ6yg8D7qW",
    "outputId": "e05f4341-a357-456c-9062-c1986de85258"
   },
   "outputs": [
    {
     "data": {
      "text/plain": [
       "(392, 8)"
      ]
     },
     "execution_count": 98,
     "metadata": {},
     "output_type": "execute_result"
    }
   ],
   "source": [
    "X_train_rfe.shape"
   ]
  },
  {
   "cell_type": "code",
   "execution_count": 99,
   "metadata": {
    "colab": {
     "base_uri": "https://localhost:8080/",
     "height": 206
    },
    "id": "G9kmXXmF4zDl",
    "outputId": "3f3b4c8b-9bbe-4930-9291-47132c52c1db"
   },
   "outputs": [
    {
     "data": {
      "text/html": [
       "<div>\n",
       "<style scoped>\n",
       "    .dataframe tbody tr th:only-of-type {\n",
       "        vertical-align: middle;\n",
       "    }\n",
       "\n",
       "    .dataframe tbody tr th {\n",
       "        vertical-align: top;\n",
       "    }\n",
       "\n",
       "    .dataframe thead th {\n",
       "        text-align: right;\n",
       "    }\n",
       "</style>\n",
       "<table border=\"1\" class=\"dataframe\">\n",
       "  <thead>\n",
       "    <tr style=\"text-align: right;\">\n",
       "      <th></th>\n",
       "      <th>CRIM</th>\n",
       "      <th>NOX</th>\n",
       "      <th>RM</th>\n",
       "      <th>DIS</th>\n",
       "      <th>RAD</th>\n",
       "      <th>TAX</th>\n",
       "      <th>PTRATIO</th>\n",
       "      <th>LSTAT</th>\n",
       "    </tr>\n",
       "  </thead>\n",
       "  <tbody>\n",
       "    <tr>\n",
       "      <th>325</th>\n",
       "      <td>-0.414194</td>\n",
       "      <td>-0.337203</td>\n",
       "      <td>-0.576985</td>\n",
       "      <td>0.662580</td>\n",
       "      <td>-0.519934</td>\n",
       "      <td>-1.095944</td>\n",
       "      <td>0.796842</td>\n",
       "      <td>-0.441498</td>\n",
       "    </tr>\n",
       "    <tr>\n",
       "      <th>140</th>\n",
       "      <td>-0.384741</td>\n",
       "      <td>0.597868</td>\n",
       "      <td>-0.109538</td>\n",
       "      <td>-1.054476</td>\n",
       "      <td>-0.635109</td>\n",
       "      <td>0.172716</td>\n",
       "      <td>1.271152</td>\n",
       "      <td>1.587911</td>\n",
       "    </tr>\n",
       "    <tr>\n",
       "      <th>433</th>\n",
       "      <td>0.445617</td>\n",
       "      <td>1.361366</td>\n",
       "      <td>0.262887</td>\n",
       "      <td>-0.782581</td>\n",
       "      <td>1.668395</td>\n",
       "      <td>1.536675</td>\n",
       "      <td>0.796842</td>\n",
       "      <td>0.902491</td>\n",
       "    </tr>\n",
       "    <tr>\n",
       "      <th>416</th>\n",
       "      <td>0.321442</td>\n",
       "      <td>0.254722</td>\n",
       "      <td>0.275148</td>\n",
       "      <td>-0.775275</td>\n",
       "      <td>1.668395</td>\n",
       "      <td>1.536675</td>\n",
       "      <td>0.796842</td>\n",
       "      <td>-0.126346</td>\n",
       "    </tr>\n",
       "    <tr>\n",
       "      <th>488</th>\n",
       "      <td>-0.405549</td>\n",
       "      <td>0.160357</td>\n",
       "      <td>0.840682</td>\n",
       "      <td>-0.685845</td>\n",
       "      <td>-0.980635</td>\n",
       "      <td>-0.804093</td>\n",
       "      <td>1.176290</td>\n",
       "      <td>-0.910694</td>\n",
       "    </tr>\n",
       "  </tbody>\n",
       "</table>\n",
       "</div>"
      ],
      "text/plain": [
       "         CRIM       NOX        RM       DIS       RAD       TAX   PTRATIO  \\\n",
       "325 -0.414194 -0.337203 -0.576985  0.662580 -0.519934 -1.095944  0.796842   \n",
       "140 -0.384741  0.597868 -0.109538 -1.054476 -0.635109  0.172716  1.271152   \n",
       "433  0.445617  1.361366  0.262887 -0.782581  1.668395  1.536675  0.796842   \n",
       "416  0.321442  0.254722  0.275148 -0.775275  1.668395  1.536675  0.796842   \n",
       "488 -0.405549  0.160357  0.840682 -0.685845 -0.980635 -0.804093  1.176290   \n",
       "\n",
       "        LSTAT  \n",
       "325 -0.441498  \n",
       "140  1.587911  \n",
       "433  0.902491  \n",
       "416 -0.126346  \n",
       "488 -0.910694  "
      ]
     },
     "execution_count": 99,
     "metadata": {},
     "output_type": "execute_result"
    }
   ],
   "source": [
    "X_train_rfe.head()"
   ]
  },
  {
   "cell_type": "markdown",
   "metadata": {
    "id": "Fn1nZ28LEUDF"
   },
   "source": [
    "# Training the Simple Linear Regression model on the new Training set after RFE"
   ]
  },
  {
   "cell_type": "code",
   "execution_count": 100,
   "metadata": {
    "colab": {
     "base_uri": "https://localhost:8080/"
    },
    "id": "RjLH8HcwEeKO",
    "outputId": "505ec48a-7d1a-4eec-e700-866b8798efb2"
   },
   "outputs": [
    {
     "data": {
      "text/html": [
       "<style>#sk-container-id-5 {color: black;background-color: white;}#sk-container-id-5 pre{padding: 0;}#sk-container-id-5 div.sk-toggleable {background-color: white;}#sk-container-id-5 label.sk-toggleable__label {cursor: pointer;display: block;width: 100%;margin-bottom: 0;padding: 0.3em;box-sizing: border-box;text-align: center;}#sk-container-id-5 label.sk-toggleable__label-arrow:before {content: \"▸\";float: left;margin-right: 0.25em;color: #696969;}#sk-container-id-5 label.sk-toggleable__label-arrow:hover:before {color: black;}#sk-container-id-5 div.sk-estimator:hover label.sk-toggleable__label-arrow:before {color: black;}#sk-container-id-5 div.sk-toggleable__content {max-height: 0;max-width: 0;overflow: hidden;text-align: left;background-color: #f0f8ff;}#sk-container-id-5 div.sk-toggleable__content pre {margin: 0.2em;color: black;border-radius: 0.25em;background-color: #f0f8ff;}#sk-container-id-5 input.sk-toggleable__control:checked~div.sk-toggleable__content {max-height: 200px;max-width: 100%;overflow: auto;}#sk-container-id-5 input.sk-toggleable__control:checked~label.sk-toggleable__label-arrow:before {content: \"▾\";}#sk-container-id-5 div.sk-estimator input.sk-toggleable__control:checked~label.sk-toggleable__label {background-color: #d4ebff;}#sk-container-id-5 div.sk-label input.sk-toggleable__control:checked~label.sk-toggleable__label {background-color: #d4ebff;}#sk-container-id-5 input.sk-hidden--visually {border: 0;clip: rect(1px 1px 1px 1px);clip: rect(1px, 1px, 1px, 1px);height: 1px;margin: -1px;overflow: hidden;padding: 0;position: absolute;width: 1px;}#sk-container-id-5 div.sk-estimator {font-family: monospace;background-color: #f0f8ff;border: 1px dotted black;border-radius: 0.25em;box-sizing: border-box;margin-bottom: 0.5em;}#sk-container-id-5 div.sk-estimator:hover {background-color: #d4ebff;}#sk-container-id-5 div.sk-parallel-item::after {content: \"\";width: 100%;border-bottom: 1px solid gray;flex-grow: 1;}#sk-container-id-5 div.sk-label:hover label.sk-toggleable__label {background-color: #d4ebff;}#sk-container-id-5 div.sk-serial::before {content: \"\";position: absolute;border-left: 1px solid gray;box-sizing: border-box;top: 0;bottom: 0;left: 50%;z-index: 0;}#sk-container-id-5 div.sk-serial {display: flex;flex-direction: column;align-items: center;background-color: white;padding-right: 0.2em;padding-left: 0.2em;position: relative;}#sk-container-id-5 div.sk-item {position: relative;z-index: 1;}#sk-container-id-5 div.sk-parallel {display: flex;align-items: stretch;justify-content: center;background-color: white;position: relative;}#sk-container-id-5 div.sk-item::before, #sk-container-id-5 div.sk-parallel-item::before {content: \"\";position: absolute;border-left: 1px solid gray;box-sizing: border-box;top: 0;bottom: 0;left: 50%;z-index: -1;}#sk-container-id-5 div.sk-parallel-item {display: flex;flex-direction: column;z-index: 1;position: relative;background-color: white;}#sk-container-id-5 div.sk-parallel-item:first-child::after {align-self: flex-end;width: 50%;}#sk-container-id-5 div.sk-parallel-item:last-child::after {align-self: flex-start;width: 50%;}#sk-container-id-5 div.sk-parallel-item:only-child::after {width: 0;}#sk-container-id-5 div.sk-dashed-wrapped {border: 1px dashed gray;margin: 0 0.4em 0.5em 0.4em;box-sizing: border-box;padding-bottom: 0.4em;background-color: white;}#sk-container-id-5 div.sk-label label {font-family: monospace;font-weight: bold;display: inline-block;line-height: 1.2em;}#sk-container-id-5 div.sk-label-container {text-align: center;}#sk-container-id-5 div.sk-container {/* jupyter's `normalize.less` sets `[hidden] { display: none; }` but bootstrap.min.css set `[hidden] { display: none !important; }` so we also need the `!important` here to be able to override the default hidden behavior on the sphinx rendered scikit-learn.org. See: https://github.com/scikit-learn/scikit-learn/issues/21755 */display: inline-block !important;position: relative;}#sk-container-id-5 div.sk-text-repr-fallback {display: none;}</style><div id=\"sk-container-id-5\" class=\"sk-top-container\"><div class=\"sk-text-repr-fallback\"><pre>LinearRegression()</pre><b>In a Jupyter environment, please rerun this cell to show the HTML representation or trust the notebook. <br />On GitHub, the HTML representation is unable to render, please try loading this page with nbviewer.org.</b></div><div class=\"sk-container\" hidden><div class=\"sk-item\"><div class=\"sk-estimator sk-toggleable\"><input class=\"sk-toggleable__control sk-hidden--visually\" id=\"sk-estimator-id-9\" type=\"checkbox\" checked><label for=\"sk-estimator-id-9\" class=\"sk-toggleable__label sk-toggleable__label-arrow\">LinearRegression</label><div class=\"sk-toggleable__content\"><pre>LinearRegression()</pre></div></div></div></div></div>"
      ],
      "text/plain": [
       "LinearRegression()"
      ]
     },
     "execution_count": 100,
     "metadata": {},
     "output_type": "execute_result"
    }
   ],
   "source": [
    "lin_reg_rfe= LinearRegression()\n",
    "lin_reg_rfe.fit(X_train_rfe, Y_train)"
   ]
  },
  {
   "cell_type": "markdown",
   "metadata": {
    "id": "c4BvmfVLAyTK"
   },
   "source": [
    "#Making model predictions on train set after RFE"
   ]
  },
  {
   "cell_type": "code",
   "execution_count": 101,
   "metadata": {
    "id": "8DWGVbpYEwL-"
   },
   "outputs": [],
   "source": [
    "Y_train_rfe_pred= lin_reg_rfe.predict(X_train_rfe)"
   ]
  },
  {
   "cell_type": "code",
   "execution_count": 102,
   "metadata": {
    "colab": {
     "base_uri": "https://localhost:8080/"
    },
    "id": "7KFAIEQQE9xG",
    "outputId": "11fba83a-0cbe-46f9-e8a0-2d436903e2d8"
   },
   "outputs": [
    {
     "data": {
      "text/plain": [
       "0.7627520598011375"
      ]
     },
     "execution_count": 102,
     "metadata": {},
     "output_type": "execute_result"
    }
   ],
   "source": [
    "R2_rfe= r2_score(Y_train, Y_train_rfe_pred)\n",
    "R2_rfe"
   ]
  },
  {
   "cell_type": "markdown",
   "metadata": {
    "id": "MBLeHBzJFyB9"
   },
   "source": [
    "# Residual Analysis of the train data\n",
    "\n",
    "So, now to check if the error terms are also normally distributed (which is infact, one of the major assumptions of linear regression), let us plot the histogram of the error terms and see what it looks like."
   ]
  },
  {
   "cell_type": "code",
   "execution_count": 103,
   "metadata": {
    "id": "GGwuDTXIF67e"
   },
   "outputs": [],
   "source": [
    "# Importing the required libraries for plots.\n",
    "import matplotlib.pyplot as plt\n",
    "import seaborn as sns\n",
    "%matplotlib inline"
   ]
  },
  {
   "cell_type": "code",
   "execution_count": 104,
   "metadata": {
    "colab": {
     "base_uri": "https://localhost:8080/",
     "height": 333
    },
    "id": "SRiUMJwqGDht",
    "outputId": "5ad84332-076d-4d48-a0e1-5e03603df889"
   },
   "outputs": [
    {
     "data": {
      "text/plain": [
       "Text(0.5, 0, 'Errors')"
      ]
     },
     "execution_count": 104,
     "metadata": {},
     "output_type": "execute_result"
    },
    {
     "data": {
      "image/png": "[encoded data removed]",
      "text/plain": [
       "<Figure size 640x480 with 1 Axes>"
      ]
     },
     "metadata": {},
     "output_type": "display_data"
    }
   ],
   "source": [
    "# Plot the histogram of the error terms\n",
    "fig = plt.figure()\n",
    "sns.distplot((Y_train - Y_train_rfe_pred), bins = 20)\n",
    "fig.suptitle('Error Terms', fontsize = 20)                  # Plot heading \n",
    "plt.xlabel('Errors', fontsize = 18)                         # X-label"
   ]
  },
  {
   "cell_type": "code",
   "execution_count": 105,
   "metadata": {},
   "outputs": [
    {
     "data": {
      "image/png": "[encoded data removed]",
      "text/plain": [
       "<Figure size 640x480 with 1 Axes>"
      ]
     },
     "metadata": {},
     "output_type": "display_data"
    }
   ],
   "source": [
    "from matplotlib import pyplot as plt\n",
    "plt.hist((Y_train - Y_train_rfe_pred), bins=50)\n",
    "plt.xlabel(\"Errors\")\n",
    "plt.ylabel(\"Density\")\n",
    "plt.show()"
   ]
  },
  {
   "cell_type": "markdown",
   "metadata": {
    "id": "J3_8Du2qA9Za"
   },
   "source": [
    "error terms have approx. normal distribution (mean at 0)"
   ]
  },
  {
   "cell_type": "markdown",
   "metadata": {
    "id": "cV1fIwkMGXGN"
   },
   "source": [
    "# Making model predictions on test set"
   ]
  },
  {
   "cell_type": "markdown",
   "metadata": {
    "id": "Slc7ahadG6JC"
   },
   "source": [
    "Creating X_test_new dataframe by dropping variables from X_test"
   ]
  },
  {
   "cell_type": "code",
   "execution_count": 106,
   "metadata": {
    "id": "IIDAjAxWG4-c"
   },
   "outputs": [],
   "source": [
    "X_test_new = X_test[X_train_rfe.columns]"
   ]
  },
  {
   "cell_type": "code",
   "execution_count": 107,
   "metadata": {
    "id": "eCCqhY4cGYXk"
   },
   "outputs": [],
   "source": [
    "Y_test_pred= lin_reg_rfe.predict(X_test_new)"
   ]
  },
  {
   "cell_type": "code",
   "execution_count": 108,
   "metadata": {
    "colab": {
     "base_uri": "https://localhost:8080/"
    },
    "id": "_uPpAy_e_78h",
    "outputId": "5316874d-b99f-4553-cc7e-3988ad55987f"
   },
   "outputs": [
    {
     "data": {
      "text/plain": [
       "0.7446591689482642"
      ]
     },
     "execution_count": 108,
     "metadata": {},
     "output_type": "execute_result"
    }
   ],
   "source": [
    "R2_test= r2_score(Y_test, Y_test_pred)\n",
    "R2_test"
   ]
  },
  {
   "cell_type": "code",
   "execution_count": null,
   "metadata": {},
   "outputs": [],
   "source": []
  }
 ],
 "metadata": {
  "colab": {
   "collapsed_sections": [
    "u6n1g3vrLJrZ"
   ],
   "provenance": []
  },
  "kernelspec": {
   "display_name": "Python 3 (ipykernel)",
   "language": "python",
   "name": "python3"
  },
  "language_info": {
   "codemirror_mode": {
    "name": "ipython",
    "version": 3
   },
   "file_extension": ".py",
   "mimetype": "text/x-python",
   "name": "python",
   "nbconvert_exporter": "python",
   "pygments_lexer": "ipython3",
   "version": "3.10.6"
  }
 },
 "nbformat": 4,
 "nbformat_minor": 1
}
